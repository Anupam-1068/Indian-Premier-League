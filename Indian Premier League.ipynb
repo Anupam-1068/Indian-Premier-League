{
    "metadata": {
        "kernelspec": {
            "name": "python3",
            "display_name": "Python 3 (ipykernel)",
            "language": "python"
        },
        "language_info": {
            "name": "python",
            "version": "3.8.10",
            "mimetype": "text/x-python",
            "codemirror_mode": {
                "name": "ipython",
                "version": 3
            },
            "pygments_lexer": "ipython3",
            "nbconvert_exporter": "python",
            "file_extension": ".py"
        }
    },
    "nbformat_minor": 2,
    "nbformat": 4,
    "cells": [
        {
            "cell_type": "markdown",
            "source": [
                "**Objective**\n",
                "\n",
                "Comparing SQL and Python in terms of data processing and data analysis"
            ],
            "metadata": {
                "azdata_cell_guid": "e9723969-4e2c-4f8d-a157-95cb8dfb3375"
            },
            "attachments": {}
        },
        {
            "cell_type": "markdown",
            "source": [
                "**About the Project**\n",
                "\n",
                "The aim of this project is to compare SQL and Python for data processing and data analysis. In particular, the project will focus on comparing the strengths and weaknesses of each language in terms of their ability to handle large datasets, manipulate data, and perform complex calculations.\n",
                "\n",
                "_**How I came to that idea?**_ \n",
                "\n",
                "When I was wondering for the topic of my project, I found that R is a programming language that is used by statisticians and data miners. It is often used for developing statistical software and performing statistical analysis.\n",
                "\n",
                "Python is a simple and easy-to-learn programming language. It requires much fewer lines of code than other programming languages to perform the same operations. Due to its simplicity, it is easier to keep the focus primarily on handling computations rather than getting caught up in the details of managing the program flow.<span style=\"font-family: &quot;Segoe UI&quot;, sans-serif; color: rgb(33, 37, 41); background: white;\">Python is a cross platform</span> <span style=\"font-family: &quot;Segoe UI&quot;, sans-serif; color: rgb(33, 37, 41); background: white;\">programming language, which means that the same code works across different environments without any changes made to the code.</span> <span style=\"font-family: &quot;Segoe UI&quot;, sans-serif; color: rgb(33, 37, 41); background: white;\">In terms of speed.</span>\n",
                "\n",
                "<span style=\"font-family: &quot;Segoe UI&quot;, sans-serif; color: rgb(33, 37, 41); background: white;\">Java is faster than Python, more scalable and more preferred for BigData.</span>\n",
                "\n",
                "<span style=\"font-family:&quot;Segoe UI&quot;,sans-serif;color:#212529;background:white\"><span style=\"color: rgb(74, 74, 74); font-family: &quot;Segoe WPC&quot;, &quot;Segoe UI&quot;, sans-serif; background-color: rgb(255, 255, 254);\"><b><i>Why I choose Python over Java and R?</i></b></span><br></span>\n",
                "\n",
                "<span style=\"font-family:&quot;Segoe UI&quot;,sans-serif;color:#212529;background:white\"><span style=\"color: rgb(74, 74, 74); font-family: &quot;Segoe WPC&quot;, &quot;Segoe UI&quot;, sans-serif; background-color: rgb(255, 255, 254);\">In my project, I wanted to give more importance to</span></span> <span style=\"background-color: white; color: rgb(33, 37, 41); font-family: &quot;Segoe UI&quot;, sans-serif;\">Visualization, Data Reporting</span> <span style=\"background-color: white; color: rgb(33, 37, 41); font-family: &quot;Segoe UI&quot;, sans-serif;\">and Data Manipulation.</span>"
            ],
            "metadata": {
                "azdata_cell_guid": "2ff4de63-542b-4f56-a6c4-17875c1e1828"
            },
            "attachments": {}
        },
        {
            "cell_type": "markdown",
            "source": [
                "**What is SQL?**\n",
                "\n",
                "<span style=\"font-family:&quot;Segoe UI&quot;,sans-serif;color:#212529;\n",
                "background:white\">SQL is a programming language used to build, store, and retrieve data from data management systems. SQL allows data professionals to retrieve records from databases and generate powerful insights crucial for business decision-making.</span>"
            ],
            "metadata": {
                "azdata_cell_guid": "67d47f97-8ff0-4926-8f66-d6cb77e0a52d"
            },
            "attachments": {}
        },
        {
            "cell_type": "markdown",
            "source": [
                "**What is Python?**\n",
                "\n",
                "<span style=\"font-family:&quot;Segoe UI&quot;,sans-serif;color:#212529;\n",
                "background:white\">Python is a dynamically typed language, favourite for working with data because its easy integration with multiple libraries and flexibility make it easy to adapt to various formats (text, video, audio, Comma Separated Values (CSV), and web) involved with working with data.</span>"
            ],
            "metadata": {
                "azdata_cell_guid": "e97107e1-25ef-4238-bc65-7e8b7034a5d1"
            },
            "attachments": {}
        },
        {
            "cell_type": "markdown",
            "source": [
                "**Key similarities?**\n",
                "\n",
                "<span style=\"font-family:&quot;Segoe UI&quot;,sans-serif;color:#212529;\n",
                "background:white\">Data Manipulation: Both Python and SQL provide functionality for data manipulation.</span>\n",
                "\n",
                "<span style=\"font-family:&quot;Segoe UI&quot;,sans-serif;color:#212529;\n",
                "background:white\">Data Analysis: Python and SQL can both be used for data analysis tasks.</span> <span style=\"font-family:&quot;Segoe UI&quot;,sans-serif;\n",
                "color:#212529;background:white\">Python has libraries like Matplotlib, Seaborn whereas SQL can generate basic visualizations using tools like Tableau or Power BI, based on the retrieved data.</span>"
            ],
            "metadata": {
                "azdata_cell_guid": "588961c4-67f5-4420-beda-387c620078eb"
            },
            "attachments": {}
        },
        {
            "cell_type": "markdown",
            "source": [
                "**Key differences**\n",
                "\n",
                "<span style=\"font-family:&quot;Segoe UI&quot;,sans-serif;color:#212529;\n",
                "background:white\">Performance</span>\n",
                "\n",
                "<span style=\"font-size:10.0pt;line-height:115%;font-family:&quot;Segoe UI&quot;,sans-serif;\n",
                "mso-fareast-font-family:Calibri;mso-fareast-theme-font:minor-latin;color:#212529;\n",
                "background:white;mso-ansi-language:EN-IN;mso-fareast-language:EN-US;mso-bidi-language:\n",
                "AR-SA\">For simple queries and aggregations, SQL performs faster than Python because the data in the database already has a defined schema, and the computation process occurs close to the data. For Python, extraction of the data and loading must occur before data exploration, which may introduce latency.</span>\n",
                "\n",
                "<span style=\"font-family:&quot;Segoe UI&quot;,sans-serif;color:#212529;\n",
                "background:white\">Scalability</span>\n",
                "\n",
                "<span style=\"font-size:10.0pt;line-height:115%;font-family:&quot;Segoe UI&quot;,sans-serif;\n",
                "mso-fareast-font-family:Calibri;mso-fareast-theme-font:minor-latin;color:#212529;\n",
                "background:white;mso-ansi-language:EN-IN;mso-fareast-language:EN-US;mso-bidi-language:\n",
                "AR-SA\"><span style=\"font-size: 14px;\">SQL can scale up according to increasing datasets by adding more tables or deleting old tables in a database, thereby improving scalability. Multithreading is a technique that helps divide a process into multiple threads and enhances applications’ ability to handle increasing requests. Unfortunately, unlike languages like Java, which uses multithreading, Python uses GIL (Global Interpreter Lock), which prevents the Python interpreter from performing multiple tasks concurrently, impacting the speed and scalability of applications.</span>&nbsp;</span>   \n",
                "\n",
                "<span style=\"font-family:&quot;Segoe UI&quot;,sans-serif;color:#212529;\n",
                "background:white\">Testing</span>\n",
                "\n",
                "<span style=\"font-family:&quot;Segoe UI&quot;,sans-serif;color:#212529;\n",
                "background:white\">Running tests are crucial to data pipelines and help ensure code works as intended, without bugs, and is maintainable. Like most programming languages, Python offers extensive unit and integration tests for parts of the data processing pipeline, from data queries to machine learning models and complex mathematical functions. On the other hand, SQL offers no extensive unit testing.</span>\n",
                "\n",
                "<span style=\"font-family:&quot;Segoe UI&quot;,sans-serif;color:#212529;\n",
                "background:white\">Ease of Use</span>\n",
                "\n",
                "<span style=\"font-family:&quot;Segoe UI&quot;,sans-serif;color:#212529;\n",
                "background:white\">Although Python has straightforward syntax, SQL is more beginner-friendly, has fewer concepts, and is easier to learn.</span>\n",
                "\n",
                "<span style=\"font-family:&quot;Segoe UI&quot;,sans-serif;color:#212529;\n",
                "background:white\">Roles</span>\n",
                "\n",
                "<span style=\"font-family:&quot;Segoe UI&quot;,sans-serif;color:#212529;\n",
                "background:white\">For data scientists who perform a wide range of tasks like cleaning, manipulation and exploration, possessing Python programming skills will help them perform daily tasks. On the other hand, data engineers and analysts require extensive SQL skills to help manage and monitor ETL tasks in databases and data modeling. There is however, certainly an overlap in skill sets for all of these roles.</span>"
            ],
            "metadata": {
                "azdata_cell_guid": "5800d6f5-7ce0-4499-8089-d2c10a2e1619"
            },
            "attachments": {}
        },
        {
            "cell_type": "markdown",
            "source": [
                "**Solution**\n",
                "\n",
                "We analyse the given dataset to extract valuable insights and make informed decisions using python and SQL."
            ],
            "metadata": {
                "azdata_cell_guid": "cf0769a5-ccb4-4a88-9047-18f8cba9c153"
            },
            "attachments": {}
        },
        {
            "cell_type": "markdown",
            "source": [
                "**Indian Premium League**"
            ],
            "metadata": {
                "azdata_cell_guid": "60c0cadd-0c1e-4fcf-a24f-7edbfb571984"
            },
            "attachments": {}
        },
        {
            "cell_type": "markdown",
            "source": [
                "<span style=\"color: rgb(60, 64, 67); font-family: Inter, sans-serif;\">Tata IPL is among the most famous cricket league with players coming from worldwide. What makes it more interesting is the auction resulting in all players changing their squad and two new teams added to the league. IPL started on 26th March 2022 last year, this dataset is a complete dataset showing match information and also data for each delivery.</span>\n",
                "\n",
                "**About Dataset**\n",
                "\n",
                "This dataset is a concise dataset to get statistics of all the players. It helps you analyse \n",
                "\n",
                "1. Table <span style=\"border: 0px; font-family: inherit; font-style: inherit; font-variant: inherit; font-weight: 700; margin: 0px; padding: 0px; vertical-align: baseline;\"><em style=\"border: 0px; font-family: inherit; font-variant: inherit; font-weight: inherit; margin: 0px; padding: 0px; vertical-align: baseline;\">IPL_Matches_2022</em></span> contains all details of the match: Venue of the match, Toss Decision, Match Winner, Man of the Match, Squads, etc.\n",
                "2. Table <span style=\"border: 0px; font-family: inherit; font-style: inherit; font-variant: inherit; font-weight: 700; margin: 0px; padding: 0px; vertical-align: baseline;\"><em style=\"border: 0px; font-family: inherit; font-variant: inherit; font-weight: inherit; margin: 0px; padding: 0px; vertical-align: baseline;\">IPL_Ball_by_Ball_2022</em></span> contains ball by ball data of each and every match: Batsman on strike, Bowler, Extras, Runs, Wicket Ball, etc.\n",
                "3. <span style=\"color: rgb(74, 74, 74); font-family: &quot;Segoe WPC&quot;, &quot;Segoe UI&quot;, sans-serif;\"><span style=\"font-weight: inherit;\">Table</span><b> IPL_PlayerData </b><span style=\"font-weight: inherit;\">contains details of all players data with their all-time IPL stats.</span></span>"
            ],
            "metadata": {
                "azdata_cell_guid": "63a14af7-b975-4d05-a5a5-e4df2a288600"
            },
            "attachments": {}
        },
        {
            "cell_type": "markdown",
            "source": [
                "**Libraries**"
            ],
            "metadata": {
                "azdata_cell_guid": "d7c24c03-99bc-4778-a9d2-567a264fbe99"
            },
            "attachments": {}
        },
        {
            "cell_type": "code",
            "source": [
                "import pandas as pd # Pandas is used for working with datasets\r\n",
                "import numpy as np #Numpy is a library for working with arrays of data\r\n",
                "import matplotlib.pyplot as plt #Matplotlib is a library for making graphs\r\n",
                "import seaborn as sns #Seaborn is a higher-level interface to Matplotlib that can be used to simplify many graphing tasks"
            ],
            "metadata": {
                "azdata_cell_guid": "43f3fcc8-b414-4af0-8c5e-3dd11cd376fe",
                "language": "python",
                "tags": []
            },
            "outputs": [],
            "execution_count": 1
        },
        {
            "cell_type": "markdown",
            "source": [
                "**Import csv File**"
            ],
            "metadata": {
                "azdata_cell_guid": "72784b5d-f951-4235-9be9-b61f7a7e410f"
            },
            "attachments": {}
        },
        {
            "cell_type": "code",
            "source": [
                "df_ball=pd.read_csv(\"C:/Users/anupa/OneDrive/Desktop/IPL/IPL_Ball_by_Ball_2022.csv\")\r\n",
                "df_mat=pd.read_csv(\"C:/Users/anupa/OneDrive/Desktop/IPL/IPL_Matches_2022.csv\")\r\n",
                "df_play=pd.read_csv(\"C:/Users/anupa/OneDrive/Desktop/IPL/IPL_PlayerData.csv\")"
            ],
            "metadata": {
                "language": "python",
                "azdata_cell_guid": "bd183e02-417e-4c80-a218-850cb8477f5d"
            },
            "outputs": [],
            "execution_count": 2
        },
        {
            "cell_type": "markdown",
            "source": [
                "**First five rows of datasets ball by ball using Python and SQL**"
            ],
            "metadata": {
                "azdata_cell_guid": "8d4df433-3313-4bd7-af7c-d9cc38b18702"
            },
            "attachments": {}
        },
        {
            "cell_type": "code",
            "source": [
                "df_ball.head(5)"
            ],
            "metadata": {
                "language": "python",
                "azdata_cell_guid": "2427736e-60a9-4479-8688-8154dce642d6"
            },
            "outputs": [
                {
                    "output_type": "execute_result",
                    "execution_count": 3,
                    "data": {
                        "text/plain": "        ID  innings  overs  ballnumber       batter          bowler   \n0  1312200        1      0           1  YBK Jaiswal  Mohammed Shami  \\\n1  1312200        1      0           2  YBK Jaiswal  Mohammed Shami   \n2  1312200        1      0           3   JC Buttler  Mohammed Shami   \n3  1312200        1      0           4  YBK Jaiswal  Mohammed Shami   \n4  1312200        1      0           5  YBK Jaiswal  Mohammed Shami   \n\n   non-striker extra_type  batsman_run  extras_run  total_run  non_boundary   \n0   JC Buttler        NaN            0           0          0             0  \\\n1   JC Buttler    legbyes            0           1          1             0   \n2  YBK Jaiswal        NaN            1           0          1             0   \n3   JC Buttler        NaN            0           0          0             0   \n4   JC Buttler        NaN            0           0          0             0   \n\n   isWicketDelivery player_out kind fielders_involved       BattingTeam  \n0                 0        NaN  NaN               NaN  Rajasthan Royals  \n1                 0        NaN  NaN               NaN  Rajasthan Royals  \n2                 0        NaN  NaN               NaN  Rajasthan Royals  \n3                 0        NaN  NaN               NaN  Rajasthan Royals  \n4                 0        NaN  NaN               NaN  Rajasthan Royals  ",
                        "text/html": "<div>\n<style scoped>\n    .dataframe tbody tr th:only-of-type {\n        vertical-align: middle;\n    }\n\n    .dataframe tbody tr th {\n        vertical-align: top;\n    }\n\n    .dataframe thead th {\n        text-align: right;\n    }\n</style>\n<table border=\"1\" class=\"dataframe\">\n  <thead>\n    <tr style=\"text-align: right;\">\n      <th></th>\n      <th>ID</th>\n      <th>innings</th>\n      <th>overs</th>\n      <th>ballnumber</th>\n      <th>batter</th>\n      <th>bowler</th>\n      <th>non-striker</th>\n      <th>extra_type</th>\n      <th>batsman_run</th>\n      <th>extras_run</th>\n      <th>total_run</th>\n      <th>non_boundary</th>\n      <th>isWicketDelivery</th>\n      <th>player_out</th>\n      <th>kind</th>\n      <th>fielders_involved</th>\n      <th>BattingTeam</th>\n    </tr>\n  </thead>\n  <tbody>\n    <tr>\n      <th>0</th>\n      <td>1312200</td>\n      <td>1</td>\n      <td>0</td>\n      <td>1</td>\n      <td>YBK Jaiswal</td>\n      <td>Mohammed Shami</td>\n      <td>JC Buttler</td>\n      <td>NaN</td>\n      <td>0</td>\n      <td>0</td>\n      <td>0</td>\n      <td>0</td>\n      <td>0</td>\n      <td>NaN</td>\n      <td>NaN</td>\n      <td>NaN</td>\n      <td>Rajasthan Royals</td>\n    </tr>\n    <tr>\n      <th>1</th>\n      <td>1312200</td>\n      <td>1</td>\n      <td>0</td>\n      <td>2</td>\n      <td>YBK Jaiswal</td>\n      <td>Mohammed Shami</td>\n      <td>JC Buttler</td>\n      <td>legbyes</td>\n      <td>0</td>\n      <td>1</td>\n      <td>1</td>\n      <td>0</td>\n      <td>0</td>\n      <td>NaN</td>\n      <td>NaN</td>\n      <td>NaN</td>\n      <td>Rajasthan Royals</td>\n    </tr>\n    <tr>\n      <th>2</th>\n      <td>1312200</td>\n      <td>1</td>\n      <td>0</td>\n      <td>3</td>\n      <td>JC Buttler</td>\n      <td>Mohammed Shami</td>\n      <td>YBK Jaiswal</td>\n      <td>NaN</td>\n      <td>1</td>\n      <td>0</td>\n      <td>1</td>\n      <td>0</td>\n      <td>0</td>\n      <td>NaN</td>\n      <td>NaN</td>\n      <td>NaN</td>\n      <td>Rajasthan Royals</td>\n    </tr>\n    <tr>\n      <th>3</th>\n      <td>1312200</td>\n      <td>1</td>\n      <td>0</td>\n      <td>4</td>\n      <td>YBK Jaiswal</td>\n      <td>Mohammed Shami</td>\n      <td>JC Buttler</td>\n      <td>NaN</td>\n      <td>0</td>\n      <td>0</td>\n      <td>0</td>\n      <td>0</td>\n      <td>0</td>\n      <td>NaN</td>\n      <td>NaN</td>\n      <td>NaN</td>\n      <td>Rajasthan Royals</td>\n    </tr>\n    <tr>\n      <th>4</th>\n      <td>1312200</td>\n      <td>1</td>\n      <td>0</td>\n      <td>5</td>\n      <td>YBK Jaiswal</td>\n      <td>Mohammed Shami</td>\n      <td>JC Buttler</td>\n      <td>NaN</td>\n      <td>0</td>\n      <td>0</td>\n      <td>0</td>\n      <td>0</td>\n      <td>0</td>\n      <td>NaN</td>\n      <td>NaN</td>\n      <td>NaN</td>\n      <td>Rajasthan Royals</td>\n    </tr>\n  </tbody>\n</table>\n</div>"
                    },
                    "metadata": {}
                }
            ],
            "execution_count": 3
        },
        {
            "cell_type": "code",
            "source": [
                "SELECT TOP (5) * FROM [Indian_Premier_League].[dbo].[IPL_Ball_by_Ball_2022]"
            ],
            "metadata": {
                "language": "python",
                "azdata_cell_guid": "9ddf43c4-cd9e-4009-a025-2fe824e07bea"
            },
            "outputs": [
                {
                    "output_type": "display_data",
                    "data": {
                        "text/html": "(5 rows affected)"
                    },
                    "metadata": {}
                },
                {
                    "output_type": "display_data",
                    "data": {
                        "text/html": "Total execution time: 00:00:00.069"
                    },
                    "metadata": {}
                },
                {
                    "output_type": "execute_result",
                    "execution_count": 2,
                    "data": {
                        "application/vnd.dataresource+json": {
                            "schema": {
                                "fields": [
                                    {
                                        "name": "ID"
                                    },
                                    {
                                        "name": "innings"
                                    },
                                    {
                                        "name": "overs"
                                    },
                                    {
                                        "name": "ballnumber"
                                    },
                                    {
                                        "name": "batter"
                                    },
                                    {
                                        "name": "bowler"
                                    },
                                    {
                                        "name": "non_striker"
                                    },
                                    {
                                        "name": "extra_type"
                                    },
                                    {
                                        "name": "batsman_run"
                                    },
                                    {
                                        "name": "extras_run"
                                    },
                                    {
                                        "name": "total_run"
                                    },
                                    {
                                        "name": "non_boundary"
                                    },
                                    {
                                        "name": "isWicketDelivery"
                                    },
                                    {
                                        "name": "player_out"
                                    },
                                    {
                                        "name": "kind"
                                    },
                                    {
                                        "name": "fielders_involved"
                                    },
                                    {
                                        "name": "BattingTeam"
                                    }
                                ]
                            },
                            "data": [
                                {
                                    "0": "1312200",
                                    "1": "1",
                                    "2": "0",
                                    "3": "1",
                                    "4": "YBK Jaiswal",
                                    "5": "Mohammed Shami",
                                    "6": "JC Buttler",
                                    "7": "NA",
                                    "8": "0",
                                    "9": "0",
                                    "10": "0",
                                    "11": "0",
                                    "12": "0",
                                    "13": "NA",
                                    "14": "NA",
                                    "15": "NA",
                                    "16": "Rajasthan Royals"
                                },
                                {
                                    "0": "1312200",
                                    "1": "1",
                                    "2": "0",
                                    "3": "2",
                                    "4": "YBK Jaiswal",
                                    "5": "Mohammed Shami",
                                    "6": "JC Buttler",
                                    "7": "legbyes",
                                    "8": "0",
                                    "9": "1",
                                    "10": "1",
                                    "11": "0",
                                    "12": "0",
                                    "13": "NA",
                                    "14": "NA",
                                    "15": "NA",
                                    "16": "Rajasthan Royals"
                                },
                                {
                                    "0": "1312200",
                                    "1": "1",
                                    "2": "0",
                                    "3": "3",
                                    "4": "JC Buttler",
                                    "5": "Mohammed Shami",
                                    "6": "YBK Jaiswal",
                                    "7": "NA",
                                    "8": "1",
                                    "9": "0",
                                    "10": "1",
                                    "11": "0",
                                    "12": "0",
                                    "13": "NA",
                                    "14": "NA",
                                    "15": "NA",
                                    "16": "Rajasthan Royals"
                                },
                                {
                                    "0": "1312200",
                                    "1": "1",
                                    "2": "0",
                                    "3": "4",
                                    "4": "YBK Jaiswal",
                                    "5": "Mohammed Shami",
                                    "6": "JC Buttler",
                                    "7": "NA",
                                    "8": "0",
                                    "9": "0",
                                    "10": "0",
                                    "11": "0",
                                    "12": "0",
                                    "13": "NA",
                                    "14": "NA",
                                    "15": "NA",
                                    "16": "Rajasthan Royals"
                                },
                                {
                                    "0": "1312200",
                                    "1": "1",
                                    "2": "0",
                                    "3": "5",
                                    "4": "YBK Jaiswal",
                                    "5": "Mohammed Shami",
                                    "6": "JC Buttler",
                                    "7": "NA",
                                    "8": "0",
                                    "9": "0",
                                    "10": "0",
                                    "11": "0",
                                    "12": "0",
                                    "13": "NA",
                                    "14": "NA",
                                    "15": "NA",
                                    "16": "Rajasthan Royals"
                                }
                            ]
                        },
                        "text/html": "<table><tr><th>ID</th><th>innings</th><th>overs</th><th>ballnumber</th><th>batter</th><th>bowler</th><th>non_striker</th><th>extra_type</th><th>batsman_run</th><th>extras_run</th><th>total_run</th><th>non_boundary</th><th>isWicketDelivery</th><th>player_out</th><th>kind</th><th>fielders_involved</th><th>BattingTeam</th></tr><tr><td>1312200</td><td>1</td><td>0</td><td>1</td><td>YBK Jaiswal</td><td>Mohammed Shami</td><td>JC Buttler</td><td>NA</td><td>0</td><td>0</td><td>0</td><td>0</td><td>0</td><td>NA</td><td>NA</td><td>NA</td><td>Rajasthan Royals</td></tr><tr><td>1312200</td><td>1</td><td>0</td><td>2</td><td>YBK Jaiswal</td><td>Mohammed Shami</td><td>JC Buttler</td><td>legbyes</td><td>0</td><td>1</td><td>1</td><td>0</td><td>0</td><td>NA</td><td>NA</td><td>NA</td><td>Rajasthan Royals</td></tr><tr><td>1312200</td><td>1</td><td>0</td><td>3</td><td>JC Buttler</td><td>Mohammed Shami</td><td>YBK Jaiswal</td><td>NA</td><td>1</td><td>0</td><td>1</td><td>0</td><td>0</td><td>NA</td><td>NA</td><td>NA</td><td>Rajasthan Royals</td></tr><tr><td>1312200</td><td>1</td><td>0</td><td>4</td><td>YBK Jaiswal</td><td>Mohammed Shami</td><td>JC Buttler</td><td>NA</td><td>0</td><td>0</td><td>0</td><td>0</td><td>0</td><td>NA</td><td>NA</td><td>NA</td><td>Rajasthan Royals</td></tr><tr><td>1312200</td><td>1</td><td>0</td><td>5</td><td>YBK Jaiswal</td><td>Mohammed Shami</td><td>JC Buttler</td><td>NA</td><td>0</td><td>0</td><td>0</td><td>0</td><td>0</td><td>NA</td><td>NA</td><td>NA</td><td>Rajasthan Royals</td></tr></table>"
                    },
                    "metadata": {}
                }
            ],
            "execution_count": 2
        },
        {
            "cell_type": "markdown",
            "source": [
                "**First five rows of datasets Matches using Python and SQL**"
            ],
            "metadata": {
                "azdata_cell_guid": "6f4eca93-ec14-4c77-8f59-4a20514a8af6"
            },
            "attachments": {}
        },
        {
            "cell_type": "code",
            "source": [
                "df_mat.head(5)"
            ],
            "metadata": {
                "language": "python",
                "azdata_cell_guid": "6e105dc9-db99-4679-9910-45200f1fa2f5"
            },
            "outputs": [
                {
                    "output_type": "execute_result",
                    "execution_count": 4,
                    "data": {
                        "text/plain": "        ID       City        Date  Season  MatchNumber   \n0  1312200  Ahmedabad  2022-05-29    2022        Final  \\\n1  1312199  Ahmedabad  2022-05-27    2022  Qualifier 2   \n2  1312198    Kolkata  2022-05-25    2022   Eliminator   \n3  1312197    Kolkata  2022-05-24    2022  Qualifier 1   \n4  1304116     Mumbai  2022-05-22    2022           70   \n\n                         Team1                 Team2   \n0             Rajasthan Royals        Gujarat Titans  \\\n1  Royal Challengers Bangalore      Rajasthan Royals   \n2  Royal Challengers Bangalore  Lucknow Super Giants   \n3             Rajasthan Royals        Gujarat Titans   \n4          Sunrisers Hyderabad          Punjab Kings   \n\n                              Venue            TossWinner TossDecision   \n0  Narendra Modi Stadium, Ahmedabad      Rajasthan Royals          bat  \\\n1  Narendra Modi Stadium, Ahmedabad      Rajasthan Royals        field   \n2             Eden Gardens, Kolkata  Lucknow Super Giants        field   \n3             Eden Gardens, Kolkata        Gujarat Titans        field   \n4          Wankhede Stadium, Mumbai   Sunrisers Hyderabad          bat   \n\n  SuperOver                  WinningTeam    WonBy  Margin  method   \n0         N               Gujarat Titans  Wickets       7     NaN  \\\n1         N             Rajasthan Royals  Wickets       7     NaN   \n2         N  Royal Challengers Bangalore     Runs      14     NaN   \n3         N               Gujarat Titans  Wickets       7     NaN   \n4         N                 Punjab Kings  Wickets       5     NaN   \n\n  Player_of_Match                                       Team1Players   \n0       HH Pandya  ['YBK Jaiswal', 'JC Buttler', 'SV Samson', 'D ...  \\\n1      JC Buttler  ['V Kohli', 'F du Plessis', 'RM Patidar', 'GJ ...   \n2      RM Patidar  ['V Kohli', 'F du Plessis', 'RM Patidar', 'GJ ...   \n3       DA Miller  ['YBK Jaiswal', 'JC Buttler', 'SV Samson', 'D ...   \n4   Harpreet Brar  ['PK Garg', 'Abhishek Sharma', 'RA Tripathi', ...   \n\n                                        Team2Players        Umpire1   \n0  ['WP Saha', 'Shubman Gill', 'MS Wade', 'HH Pan...    CB Gaffaney  \\\n1  ['YBK Jaiswal', 'JC Buttler', 'SV Samson', 'D ...    CB Gaffaney   \n2  ['Q de Kock', 'KL Rahul', 'M Vohra', 'DJ Hooda...  J Madanagopal   \n3  ['WP Saha', 'Shubman Gill', 'MS Wade', 'HH Pan...   BNJ Oxenford   \n4  ['JM Bairstow', 'S Dhawan', 'M Shahrukh Khan',...   AK Chaudhary   \n\n         Umpire2  \n0    Nitin Menon  \n1    Nitin Menon  \n2       MA Gough  \n3      VK Sharma  \n4  NA Patwardhan  ",
                        "text/html": "<div>\n<style scoped>\n    .dataframe tbody tr th:only-of-type {\n        vertical-align: middle;\n    }\n\n    .dataframe tbody tr th {\n        vertical-align: top;\n    }\n\n    .dataframe thead th {\n        text-align: right;\n    }\n</style>\n<table border=\"1\" class=\"dataframe\">\n  <thead>\n    <tr style=\"text-align: right;\">\n      <th></th>\n      <th>ID</th>\n      <th>City</th>\n      <th>Date</th>\n      <th>Season</th>\n      <th>MatchNumber</th>\n      <th>Team1</th>\n      <th>Team2</th>\n      <th>Venue</th>\n      <th>TossWinner</th>\n      <th>TossDecision</th>\n      <th>SuperOver</th>\n      <th>WinningTeam</th>\n      <th>WonBy</th>\n      <th>Margin</th>\n      <th>method</th>\n      <th>Player_of_Match</th>\n      <th>Team1Players</th>\n      <th>Team2Players</th>\n      <th>Umpire1</th>\n      <th>Umpire2</th>\n    </tr>\n  </thead>\n  <tbody>\n    <tr>\n      <th>0</th>\n      <td>1312200</td>\n      <td>Ahmedabad</td>\n      <td>2022-05-29</td>\n      <td>2022</td>\n      <td>Final</td>\n      <td>Rajasthan Royals</td>\n      <td>Gujarat Titans</td>\n      <td>Narendra Modi Stadium, Ahmedabad</td>\n      <td>Rajasthan Royals</td>\n      <td>bat</td>\n      <td>N</td>\n      <td>Gujarat Titans</td>\n      <td>Wickets</td>\n      <td>7</td>\n      <td>NaN</td>\n      <td>HH Pandya</td>\n      <td>['YBK Jaiswal', 'JC Buttler', 'SV Samson', 'D ...</td>\n      <td>['WP Saha', 'Shubman Gill', 'MS Wade', 'HH Pan...</td>\n      <td>CB Gaffaney</td>\n      <td>Nitin Menon</td>\n    </tr>\n    <tr>\n      <th>1</th>\n      <td>1312199</td>\n      <td>Ahmedabad</td>\n      <td>2022-05-27</td>\n      <td>2022</td>\n      <td>Qualifier 2</td>\n      <td>Royal Challengers Bangalore</td>\n      <td>Rajasthan Royals</td>\n      <td>Narendra Modi Stadium, Ahmedabad</td>\n      <td>Rajasthan Royals</td>\n      <td>field</td>\n      <td>N</td>\n      <td>Rajasthan Royals</td>\n      <td>Wickets</td>\n      <td>7</td>\n      <td>NaN</td>\n      <td>JC Buttler</td>\n      <td>['V Kohli', 'F du Plessis', 'RM Patidar', 'GJ ...</td>\n      <td>['YBK Jaiswal', 'JC Buttler', 'SV Samson', 'D ...</td>\n      <td>CB Gaffaney</td>\n      <td>Nitin Menon</td>\n    </tr>\n    <tr>\n      <th>2</th>\n      <td>1312198</td>\n      <td>Kolkata</td>\n      <td>2022-05-25</td>\n      <td>2022</td>\n      <td>Eliminator</td>\n      <td>Royal Challengers Bangalore</td>\n      <td>Lucknow Super Giants</td>\n      <td>Eden Gardens, Kolkata</td>\n      <td>Lucknow Super Giants</td>\n      <td>field</td>\n      <td>N</td>\n      <td>Royal Challengers Bangalore</td>\n      <td>Runs</td>\n      <td>14</td>\n      <td>NaN</td>\n      <td>RM Patidar</td>\n      <td>['V Kohli', 'F du Plessis', 'RM Patidar', 'GJ ...</td>\n      <td>['Q de Kock', 'KL Rahul', 'M Vohra', 'DJ Hooda...</td>\n      <td>J Madanagopal</td>\n      <td>MA Gough</td>\n    </tr>\n    <tr>\n      <th>3</th>\n      <td>1312197</td>\n      <td>Kolkata</td>\n      <td>2022-05-24</td>\n      <td>2022</td>\n      <td>Qualifier 1</td>\n      <td>Rajasthan Royals</td>\n      <td>Gujarat Titans</td>\n      <td>Eden Gardens, Kolkata</td>\n      <td>Gujarat Titans</td>\n      <td>field</td>\n      <td>N</td>\n      <td>Gujarat Titans</td>\n      <td>Wickets</td>\n      <td>7</td>\n      <td>NaN</td>\n      <td>DA Miller</td>\n      <td>['YBK Jaiswal', 'JC Buttler', 'SV Samson', 'D ...</td>\n      <td>['WP Saha', 'Shubman Gill', 'MS Wade', 'HH Pan...</td>\n      <td>BNJ Oxenford</td>\n      <td>VK Sharma</td>\n    </tr>\n    <tr>\n      <th>4</th>\n      <td>1304116</td>\n      <td>Mumbai</td>\n      <td>2022-05-22</td>\n      <td>2022</td>\n      <td>70</td>\n      <td>Sunrisers Hyderabad</td>\n      <td>Punjab Kings</td>\n      <td>Wankhede Stadium, Mumbai</td>\n      <td>Sunrisers Hyderabad</td>\n      <td>bat</td>\n      <td>N</td>\n      <td>Punjab Kings</td>\n      <td>Wickets</td>\n      <td>5</td>\n      <td>NaN</td>\n      <td>Harpreet Brar</td>\n      <td>['PK Garg', 'Abhishek Sharma', 'RA Tripathi', ...</td>\n      <td>['JM Bairstow', 'S Dhawan', 'M Shahrukh Khan',...</td>\n      <td>AK Chaudhary</td>\n      <td>NA Patwardhan</td>\n    </tr>\n  </tbody>\n</table>\n</div>"
                    },
                    "metadata": {}
                }
            ],
            "execution_count": 4
        },
        {
            "cell_type": "code",
            "source": [
                "SELECT TOP (5) * FROM [Indian_Premier_League].[dbo].[IPL_Matches_2022]"
            ],
            "metadata": {
                "azdata_cell_guid": "42a0afb4-776b-4ad4-b1ae-d75ec44154fc",
                "language": "python"
            },
            "outputs": [
                {
                    "output_type": "display_data",
                    "data": {
                        "text/html": "(5 rows affected)"
                    },
                    "metadata": {}
                },
                {
                    "output_type": "display_data",
                    "data": {
                        "text/html": "Total execution time: 00:00:00.021"
                    },
                    "metadata": {}
                },
                {
                    "output_type": "execute_result",
                    "execution_count": 3,
                    "data": {
                        "application/vnd.dataresource+json": {
                            "schema": {
                                "fields": [
                                    {
                                        "name": "ID"
                                    },
                                    {
                                        "name": "City"
                                    },
                                    {
                                        "name": "Date"
                                    },
                                    {
                                        "name": "Season"
                                    },
                                    {
                                        "name": "MatchNumber"
                                    },
                                    {
                                        "name": "Team1"
                                    },
                                    {
                                        "name": "Team2"
                                    },
                                    {
                                        "name": "Venue"
                                    },
                                    {
                                        "name": "TossWinner"
                                    },
                                    {
                                        "name": "TossDecision"
                                    },
                                    {
                                        "name": "SuperOver"
                                    },
                                    {
                                        "name": "WinningTeam"
                                    },
                                    {
                                        "name": "WonBy"
                                    },
                                    {
                                        "name": "Margin"
                                    },
                                    {
                                        "name": "method"
                                    },
                                    {
                                        "name": "Player_of_Match"
                                    },
                                    {
                                        "name": "Team1Players"
                                    },
                                    {
                                        "name": "Team2Players"
                                    },
                                    {
                                        "name": "Umpire1"
                                    },
                                    {
                                        "name": "Umpire2"
                                    }
                                ]
                            },
                            "data": [
                                {
                                    "0": "1312200",
                                    "1": "Ahmedabad",
                                    "2": "2022-05-29",
                                    "3": "2022",
                                    "4": "Final",
                                    "5": "Rajasthan Royals",
                                    "6": "Gujarat Titans",
                                    "7": "Narendra Modi Stadium, Ahmedabad",
                                    "8": "Rajasthan Royals",
                                    "9": "bat",
                                    "10": "N",
                                    "11": "Gujarat Titans",
                                    "12": "Wickets",
                                    "13": "7",
                                    "14": "NA",
                                    "15": "HH Pandya",
                                    "16": "['YBK Jaiswal', 'JC Buttler', 'SV Samson', 'D Padikkal', 'SO Hetmyer', 'R Ashwin', 'R Parag', 'TA Boult', 'OC McCoy', 'M Prasidh Krishna', 'YS Chahal']",
                                    "17": "['WP Saha', 'Shubman Gill', 'MS Wade', 'HH Pandya', 'DA Miller', 'R Tewatia', 'Rashid Khan', 'R Sai Kishore', 'LH Ferguson', 'Yash Dayal', 'Mohammed Shami']",
                                    "18": "CB Gaffaney",
                                    "19": "Nitin Menon"
                                },
                                {
                                    "0": "1312199",
                                    "1": "Ahmedabad",
                                    "2": "2022-05-27",
                                    "3": "2022",
                                    "4": "Qualifier 2",
                                    "5": "Royal Challengers Bangalore",
                                    "6": "Rajasthan Royals",
                                    "7": "Narendra Modi Stadium, Ahmedabad",
                                    "8": "Rajasthan Royals",
                                    "9": "field",
                                    "10": "N",
                                    "11": "Rajasthan Royals",
                                    "12": "Wickets",
                                    "13": "7",
                                    "14": "NA",
                                    "15": "JC Buttler",
                                    "16": "['V Kohli', 'F du Plessis', 'RM Patidar', 'GJ Maxwell', 'MK Lomror', 'KD Karthik', 'Shahbaz Ahmed', 'PWH de Silva', 'HV Patel', 'JR Hazlewood', 'Mohammed Siraj']",
                                    "17": "['YBK Jaiswal', 'JC Buttler', 'SV Samson', 'D Padikkal', 'SO Hetmyer', 'R Parag', 'R Ashwin', 'TA Boult', 'YS Chahal', 'M Prasidh Krishna', 'OC McCoy']",
                                    "18": "CB Gaffaney",
                                    "19": "Nitin Menon"
                                },
                                {
                                    "0": "1312198",
                                    "1": "Kolkata",
                                    "2": "2022-05-25",
                                    "3": "2022",
                                    "4": "Eliminator",
                                    "5": "Royal Challengers Bangalore",
                                    "6": "Lucknow Super Giants",
                                    "7": "Eden Gardens, Kolkata",
                                    "8": "Lucknow Super Giants",
                                    "9": "field",
                                    "10": "N",
                                    "11": "Royal Challengers Bangalore",
                                    "12": "Runs",
                                    "13": "14",
                                    "14": "NA",
                                    "15": "RM Patidar",
                                    "16": "['V Kohli', 'F du Plessis', 'RM Patidar', 'GJ Maxwell', 'MK Lomror', 'KD Karthik', 'Shahbaz Ahmed', 'HV Patel', 'PWH de Silva', 'JR Hazlewood', 'Mohammed Siraj']",
                                    "17": "['Q de Kock', 'KL Rahul', 'M Vohra', 'DJ Hooda', 'MP Stoinis', 'E Lewis', 'KH Pandya', 'PVD Chameera', 'Mohsin Khan', 'Avesh Khan', 'Ravi Bishnoi']",
                                    "18": "J Madanagopal",
                                    "19": "MA Gough"
                                },
                                {
                                    "0": "1312197",
                                    "1": "Kolkata",
                                    "2": "2022-05-24",
                                    "3": "2022",
                                    "4": "Qualifier 1",
                                    "5": "Rajasthan Royals",
                                    "6": "Gujarat Titans",
                                    "7": "Eden Gardens, Kolkata",
                                    "8": "Gujarat Titans",
                                    "9": "field",
                                    "10": "N",
                                    "11": "Gujarat Titans",
                                    "12": "Wickets",
                                    "13": "7",
                                    "14": "NA",
                                    "15": "DA Miller",
                                    "16": "['YBK Jaiswal', 'JC Buttler', 'SV Samson', 'D Padikkal', 'SO Hetmyer', 'R Parag', 'R Ashwin', 'TA Boult', 'YS Chahal', 'M Prasidh Krishna', 'OC McCoy']",
                                    "17": "['WP Saha', 'Shubman Gill', 'MS Wade', 'HH Pandya', 'DA Miller', 'R Tewatia', 'Rashid Khan', 'R Sai Kishore', 'AS Joseph', 'Yash Dayal', 'Mohammed Shami']",
                                    "18": "BNJ Oxenford",
                                    "19": "VK Sharma"
                                },
                                {
                                    "0": "1304116",
                                    "1": "Mumbai",
                                    "2": "2022-05-22",
                                    "3": "2022",
                                    "4": "70",
                                    "5": "Sunrisers Hyderabad",
                                    "6": "Punjab Kings",
                                    "7": "Wankhede Stadium, Mumbai",
                                    "8": "Sunrisers Hyderabad",
                                    "9": "bat",
                                    "10": "N",
                                    "11": "Punjab Kings",
                                    "12": "Wickets",
                                    "13": "5",
                                    "14": "NA",
                                    "15": "Harpreet Brar",
                                    "16": "['PK Garg', 'Abhishek Sharma', 'RA Tripathi', 'AK Markram', 'N Pooran', 'Washington Sundar', 'R Shepherd', 'J Suchith', 'B Kumar', 'Umran Malik', 'Fazalhaq Farooqi']",
                                    "17": "['JM Bairstow', 'S Dhawan', 'M Shahrukh Khan', 'MA Agarwal', 'LS Livingstone', 'JM Sharma', 'PN Mankad', 'Harpreet Brar', 'K Rabada', 'NT Ellis', 'Arshdeep Singh']",
                                    "18": "AK Chaudhary",
                                    "19": "NA Patwardhan"
                                }
                            ]
                        },
                        "text/html": "<table><tr><th>ID</th><th>City</th><th>Date</th><th>Season</th><th>MatchNumber</th><th>Team1</th><th>Team2</th><th>Venue</th><th>TossWinner</th><th>TossDecision</th><th>SuperOver</th><th>WinningTeam</th><th>WonBy</th><th>Margin</th><th>method</th><th>Player_of_Match</th><th>Team1Players</th><th>Team2Players</th><th>Umpire1</th><th>Umpire2</th></tr><tr><td>1312200</td><td>Ahmedabad</td><td>2022-05-29</td><td>2022</td><td>Final</td><td>Rajasthan Royals</td><td>Gujarat Titans</td><td>Narendra Modi Stadium, Ahmedabad</td><td>Rajasthan Royals</td><td>bat</td><td>N</td><td>Gujarat Titans</td><td>Wickets</td><td>7</td><td>NA</td><td>HH Pandya</td><td>['YBK Jaiswal', 'JC Buttler', 'SV Samson', 'D Padikkal', 'SO Hetmyer', 'R Ashwin', 'R Parag', 'TA Boult', 'OC McCoy', 'M Prasidh Krishna', 'YS Chahal']</td><td>['WP Saha', 'Shubman Gill', 'MS Wade', 'HH Pandya', 'DA Miller', 'R Tewatia', 'Rashid Khan', 'R Sai Kishore', 'LH Ferguson', 'Yash Dayal', 'Mohammed Shami']</td><td>CB Gaffaney</td><td>Nitin Menon</td></tr><tr><td>1312199</td><td>Ahmedabad</td><td>2022-05-27</td><td>2022</td><td>Qualifier 2</td><td>Royal Challengers Bangalore</td><td>Rajasthan Royals</td><td>Narendra Modi Stadium, Ahmedabad</td><td>Rajasthan Royals</td><td>field</td><td>N</td><td>Rajasthan Royals</td><td>Wickets</td><td>7</td><td>NA</td><td>JC Buttler</td><td>['V Kohli', 'F du Plessis', 'RM Patidar', 'GJ Maxwell', 'MK Lomror', 'KD Karthik', 'Shahbaz Ahmed', 'PWH de Silva', 'HV Patel', 'JR Hazlewood', 'Mohammed Siraj']</td><td>['YBK Jaiswal', 'JC Buttler', 'SV Samson', 'D Padikkal', 'SO Hetmyer', 'R Parag', 'R Ashwin', 'TA Boult', 'YS Chahal', 'M Prasidh Krishna', 'OC McCoy']</td><td>CB Gaffaney</td><td>Nitin Menon</td></tr><tr><td>1312198</td><td>Kolkata</td><td>2022-05-25</td><td>2022</td><td>Eliminator</td><td>Royal Challengers Bangalore</td><td>Lucknow Super Giants</td><td>Eden Gardens, Kolkata</td><td>Lucknow Super Giants</td><td>field</td><td>N</td><td>Royal Challengers Bangalore</td><td>Runs</td><td>14</td><td>NA</td><td>RM Patidar</td><td>['V Kohli', 'F du Plessis', 'RM Patidar', 'GJ Maxwell', 'MK Lomror', 'KD Karthik', 'Shahbaz Ahmed', 'HV Patel', 'PWH de Silva', 'JR Hazlewood', 'Mohammed Siraj']</td><td>['Q de Kock', 'KL Rahul', 'M Vohra', 'DJ Hooda', 'MP Stoinis', 'E Lewis', 'KH Pandya', 'PVD Chameera', 'Mohsin Khan', 'Avesh Khan', 'Ravi Bishnoi']</td><td>J Madanagopal</td><td>MA Gough</td></tr><tr><td>1312197</td><td>Kolkata</td><td>2022-05-24</td><td>2022</td><td>Qualifier 1</td><td>Rajasthan Royals</td><td>Gujarat Titans</td><td>Eden Gardens, Kolkata</td><td>Gujarat Titans</td><td>field</td><td>N</td><td>Gujarat Titans</td><td>Wickets</td><td>7</td><td>NA</td><td>DA Miller</td><td>['YBK Jaiswal', 'JC Buttler', 'SV Samson', 'D Padikkal', 'SO Hetmyer', 'R Parag', 'R Ashwin', 'TA Boult', 'YS Chahal', 'M Prasidh Krishna', 'OC McCoy']</td><td>['WP Saha', 'Shubman Gill', 'MS Wade', 'HH Pandya', 'DA Miller', 'R Tewatia', 'Rashid Khan', 'R Sai Kishore', 'AS Joseph', 'Yash Dayal', 'Mohammed Shami']</td><td>BNJ Oxenford</td><td>VK Sharma</td></tr><tr><td>1304116</td><td>Mumbai</td><td>2022-05-22</td><td>2022</td><td>70</td><td>Sunrisers Hyderabad</td><td>Punjab Kings</td><td>Wankhede Stadium, Mumbai</td><td>Sunrisers Hyderabad</td><td>bat</td><td>N</td><td>Punjab Kings</td><td>Wickets</td><td>5</td><td>NA</td><td>Harpreet Brar</td><td>['PK Garg', 'Abhishek Sharma', 'RA Tripathi', 'AK Markram', 'N Pooran', 'Washington Sundar', 'R Shepherd', 'J Suchith', 'B Kumar', 'Umran Malik', 'Fazalhaq Farooqi']</td><td>['JM Bairstow', 'S Dhawan', 'M Shahrukh Khan', 'MA Agarwal', 'LS Livingstone', 'JM Sharma', 'PN Mankad', 'Harpreet Brar', 'K Rabada', 'NT Ellis', 'Arshdeep Singh']</td><td>AK Chaudhary</td><td>NA Patwardhan</td></tr></table>"
                    },
                    "metadata": {}
                }
            ],
            "execution_count": 3
        },
        {
            "cell_type": "markdown",
            "source": [
                "**First five rows of datasets Player using Python and SQL**"
            ],
            "metadata": {
                "azdata_cell_guid": "bd5bf3f6-7157-4457-8d8a-27b61d41c30f"
            },
            "attachments": {}
        },
        {
            "cell_type": "code",
            "source": [
                "df_play.head(5)"
            ],
            "metadata": {
                "language": "python",
                "azdata_cell_guid": "4da4e1f5-e994-4b4d-8647-716191a6e9fe"
            },
            "outputs": [
                {
                    "output_type": "execute_result",
                    "execution_count": 5,
                    "data": {
                        "text/plain": "               Name  Team                                                Url   \n0    Mayank Agarwal  PBKS  https://sports.ndtv.com/cricket/players/1430-m...  \\\n1  Liam Livingstone  PBKS  https://sports.ndtv.com/cricket/players/64363-...   \n2     Kagiso Rabada  PBKS  https://sports.ndtv.com/cricket/players/64042-...   \n3     Shahrukh Khan  PBKS  https://sports.ndtv.com/cricket/players/113433...   \n4    Shikhar Dhawan  PBKS  https://sports.ndtv.com/cricket/players/737-sh...   \n\n           Type  ValueinCR                 Full Name   \n0      Batsman       12.00     Mayank Anurag Agarwal  \\\n1  All-Rounder       11.50  Liam Stephen Livingstone   \n2       Bowler        9.25             Kagiso Rabada   \n3  All-Rounder        9.00      Masood Shahrukh Khan   \n4      Batsman        8.25            Shikhar Dhawan   \n\n                                           Born                          Age   \n0        February 16, 1991 Bangalore, Karnataka  31 Years, 0 Months, 28 Days  \\\n1  August 4, 1993 Barrow-in-Furness, Cumberland  28 Years, 7 Months, 11 Days   \n2                     May 25, 1995 Johannesburg  26 Years, 9 Months, 22 Days   \n3              May 27, 1995 Chennai, Tamil Nadu  26 Years, 9 Months, 20 Days   \n4                        December 5, 1985 Delhi  36 Years, 3 Months, 10 Days   \n\n  National Side Batting Style  ... Maidens RunsConceded  Wickets        Best   \n0         India  Right Handed  ...     NaN          NaN      NaN         NaN  \\\n1       England  Right Handed  ...     0.0         13.0      0.0   0/13 v MI   \n2  South Africa   Left Handed  ...     2.0       1560.0     76.0  4/21 v RCB   \n3         India  Right Handed  ...     NaN          NaN      NaN         NaN   \n4         India   Left Handed  ...     0.0         66.0      4.0    1/7 v DC   \n\n    3s   5s BowlingAVG  EconomyRate   S/R   Mtc  \n0  NaN  NaN        NaN          NaN   NaN   NaN  \n1  0.0  0.0        NaN        13.00   NaN   1.0  \n2  4.0  0.0      20.52         8.21  15.0  50.0  \n3  NaN  NaN        NaN          NaN   NaN   NaN  \n4  0.0  0.0      16.50         8.25  12.0   6.0  \n\n[5 rows x 39 columns]",
                        "text/html": "<div>\n<style scoped>\n    .dataframe tbody tr th:only-of-type {\n        vertical-align: middle;\n    }\n\n    .dataframe tbody tr th {\n        vertical-align: top;\n    }\n\n    .dataframe thead th {\n        text-align: right;\n    }\n</style>\n<table border=\"1\" class=\"dataframe\">\n  <thead>\n    <tr style=\"text-align: right;\">\n      <th></th>\n      <th>Name</th>\n      <th>Team</th>\n      <th>Url</th>\n      <th>Type</th>\n      <th>ValueinCR</th>\n      <th>Full Name</th>\n      <th>Born</th>\n      <th>Age</th>\n      <th>National Side</th>\n      <th>Batting Style</th>\n      <th>...</th>\n      <th>Maidens</th>\n      <th>RunsConceded</th>\n      <th>Wickets</th>\n      <th>Best</th>\n      <th>3s</th>\n      <th>5s</th>\n      <th>BowlingAVG</th>\n      <th>EconomyRate</th>\n      <th>S/R</th>\n      <th>Mtc</th>\n    </tr>\n  </thead>\n  <tbody>\n    <tr>\n      <th>0</th>\n      <td>Mayank Agarwal</td>\n      <td>PBKS</td>\n      <td>https://sports.ndtv.com/cricket/players/1430-m...</td>\n      <td>Batsman</td>\n      <td>12.00</td>\n      <td>Mayank Anurag Agarwal</td>\n      <td>February 16, 1991 Bangalore, Karnataka</td>\n      <td>31 Years, 0 Months, 28 Days</td>\n      <td>India</td>\n      <td>Right Handed</td>\n      <td>...</td>\n      <td>NaN</td>\n      <td>NaN</td>\n      <td>NaN</td>\n      <td>NaN</td>\n      <td>NaN</td>\n      <td>NaN</td>\n      <td>NaN</td>\n      <td>NaN</td>\n      <td>NaN</td>\n      <td>NaN</td>\n    </tr>\n    <tr>\n      <th>1</th>\n      <td>Liam Livingstone</td>\n      <td>PBKS</td>\n      <td>https://sports.ndtv.com/cricket/players/64363-...</td>\n      <td>All-Rounder</td>\n      <td>11.50</td>\n      <td>Liam Stephen Livingstone</td>\n      <td>August 4, 1993 Barrow-in-Furness, Cumberland</td>\n      <td>28 Years, 7 Months, 11 Days</td>\n      <td>England</td>\n      <td>Right Handed</td>\n      <td>...</td>\n      <td>0.0</td>\n      <td>13.0</td>\n      <td>0.0</td>\n      <td>0/13 v MI</td>\n      <td>0.0</td>\n      <td>0.0</td>\n      <td>NaN</td>\n      <td>13.00</td>\n      <td>NaN</td>\n      <td>1.0</td>\n    </tr>\n    <tr>\n      <th>2</th>\n      <td>Kagiso Rabada</td>\n      <td>PBKS</td>\n      <td>https://sports.ndtv.com/cricket/players/64042-...</td>\n      <td>Bowler</td>\n      <td>9.25</td>\n      <td>Kagiso Rabada</td>\n      <td>May 25, 1995 Johannesburg</td>\n      <td>26 Years, 9 Months, 22 Days</td>\n      <td>South Africa</td>\n      <td>Left Handed</td>\n      <td>...</td>\n      <td>2.0</td>\n      <td>1560.0</td>\n      <td>76.0</td>\n      <td>4/21 v RCB</td>\n      <td>4.0</td>\n      <td>0.0</td>\n      <td>20.52</td>\n      <td>8.21</td>\n      <td>15.0</td>\n      <td>50.0</td>\n    </tr>\n    <tr>\n      <th>3</th>\n      <td>Shahrukh Khan</td>\n      <td>PBKS</td>\n      <td>https://sports.ndtv.com/cricket/players/113433...</td>\n      <td>All-Rounder</td>\n      <td>9.00</td>\n      <td>Masood Shahrukh Khan</td>\n      <td>May 27, 1995 Chennai, Tamil Nadu</td>\n      <td>26 Years, 9 Months, 20 Days</td>\n      <td>India</td>\n      <td>Right Handed</td>\n      <td>...</td>\n      <td>NaN</td>\n      <td>NaN</td>\n      <td>NaN</td>\n      <td>NaN</td>\n      <td>NaN</td>\n      <td>NaN</td>\n      <td>NaN</td>\n      <td>NaN</td>\n      <td>NaN</td>\n      <td>NaN</td>\n    </tr>\n    <tr>\n      <th>4</th>\n      <td>Shikhar Dhawan</td>\n      <td>PBKS</td>\n      <td>https://sports.ndtv.com/cricket/players/737-sh...</td>\n      <td>Batsman</td>\n      <td>8.25</td>\n      <td>Shikhar Dhawan</td>\n      <td>December 5, 1985 Delhi</td>\n      <td>36 Years, 3 Months, 10 Days</td>\n      <td>India</td>\n      <td>Left Handed</td>\n      <td>...</td>\n      <td>0.0</td>\n      <td>66.0</td>\n      <td>4.0</td>\n      <td>1/7 v DC</td>\n      <td>0.0</td>\n      <td>0.0</td>\n      <td>16.50</td>\n      <td>8.25</td>\n      <td>12.0</td>\n      <td>6.0</td>\n    </tr>\n  </tbody>\n</table>\n<p>5 rows × 39 columns</p>\n</div>"
                    },
                    "metadata": {}
                }
            ],
            "execution_count": 5
        },
        {
            "cell_type": "code",
            "source": [
                "SELECT TOP (5) * FROM [Indian_Premier_League].[dbo].[IPL_PlayerData]"
            ],
            "metadata": {
                "azdata_cell_guid": "bc03d0c8-3b32-42c1-b988-3568c3f3b28d",
                "language": "python"
            },
            "outputs": [
                {
                    "output_type": "display_data",
                    "data": {
                        "text/html": "(5 rows affected)"
                    },
                    "metadata": {}
                },
                {
                    "output_type": "display_data",
                    "data": {
                        "text/html": "Total execution time: 00:00:00.104"
                    },
                    "metadata": {}
                },
                {
                    "output_type": "execute_result",
                    "execution_count": 1,
                    "data": {
                        "application/vnd.dataresource+json": {
                            "schema": {
                                "fields": [
                                    {
                                        "name": "Name"
                                    },
                                    {
                                        "name": "Team"
                                    },
                                    {
                                        "name": "Url"
                                    },
                                    {
                                        "name": "Type"
                                    },
                                    {
                                        "name": "ValueinCR"
                                    },
                                    {
                                        "name": "Full_Name"
                                    },
                                    {
                                        "name": "Born"
                                    },
                                    {
                                        "name": "Age"
                                    },
                                    {
                                        "name": "National_Side"
                                    },
                                    {
                                        "name": "Batting_Style"
                                    },
                                    {
                                        "name": "Bowling"
                                    },
                                    {
                                        "name": "Sport"
                                    },
                                    {
                                        "name": "MatchPlayed"
                                    },
                                    {
                                        "name": "InningsBatted"
                                    },
                                    {
                                        "name": "NotOuts"
                                    },
                                    {
                                        "name": "RunsScored"
                                    },
                                    {
                                        "name": "HighestInnScore"
                                    },
                                    {
                                        "name": "_100s"
                                    },
                                    {
                                        "name": "_50s"
                                    },
                                    {
                                        "name": "_4s"
                                    },
                                    {
                                        "name": "_6s"
                                    },
                                    {
                                        "name": "BattingAVG"
                                    },
                                    {
                                        "name": "BattingS_R"
                                    },
                                    {
                                        "name": "CatchesTaken"
                                    },
                                    {
                                        "name": "StumpingsMade"
                                    },
                                    {
                                        "name": "Ducks"
                                    },
                                    {
                                        "name": "R_O"
                                    },
                                    {
                                        "name": "InningsBowled"
                                    },
                                    {
                                        "name": "Overs"
                                    },
                                    {
                                        "name": "Maidens"
                                    },
                                    {
                                        "name": "RunsConceded"
                                    },
                                    {
                                        "name": "Wickets"
                                    },
                                    {
                                        "name": "Best"
                                    },
                                    {
                                        "name": "_3s"
                                    },
                                    {
                                        "name": "_5s"
                                    },
                                    {
                                        "name": "BowlingAVG"
                                    },
                                    {
                                        "name": "EconomyRate"
                                    },
                                    {
                                        "name": "S_R"
                                    },
                                    {
                                        "name": "Mtc"
                                    }
                                ]
                            },
                            "data": [
                                {
                                    "0": "Mayank Agarwal",
                                    "1": "PBKS",
                                    "2": "https://sports.ndtv.com/cricket/players/1430-mayank-agarwal-playerprofile",
                                    "3": "Batsman ",
                                    "4": "12",
                                    "5": "Mayank Anurag Agarwal",
                                    "6": "February 16, 1991 Bangalore, Karnataka",
                                    "7": "31 Years, 0 Months, 28 Days",
                                    "8": "India",
                                    "9": "Right Handed",
                                    "10": "Off break",
                                    "11": "NULL",
                                    "12": "100",
                                    "13": "95",
                                    "14": "4",
                                    "15": "2131",
                                    "16": "106 v RR",
                                    "17": "1",
                                    "18": "11",
                                    "19": "203",
                                    "20": "85",
                                    "21": "23.41",
                                    "22": "135.47",
                                    "23": "40",
                                    "24": "0",
                                    "25": "6",
                                    "26": "4",
                                    "27": "NULL",
                                    "28": "NULL",
                                    "29": "NULL",
                                    "30": "NULL",
                                    "31": "NULL",
                                    "32": "NULL",
                                    "33": "NULL",
                                    "34": "NULL",
                                    "35": "NULL",
                                    "36": "NULL",
                                    "37": "NULL",
                                    "38": "NULL"
                                },
                                {
                                    "0": "Liam Livingstone",
                                    "1": "PBKS",
                                    "2": "https://sports.ndtv.com/cricket/players/64363-liam-stephen-livingstone-playerprofile",
                                    "3": "All-Rounder ",
                                    "4": "11.5",
                                    "5": "Liam Stephen Livingstone",
                                    "6": "August 4, 1993 Barrow-in-Furness, Cumberland",
                                    "7": "28 Years, 7 Months, 11 Days",
                                    "8": "England",
                                    "9": "Right Handed",
                                    "10": "Leg break",
                                    "11": "IPL",
                                    "12": "9",
                                    "13": "9",
                                    "14": "1",
                                    "15": "112",
                                    "16": "44 v SRH",
                                    "17": "0",
                                    "18": "0",
                                    "19": "9",
                                    "20": "6",
                                    "21": "14",
                                    "22": "125.84",
                                    "23": "7",
                                    "24": "0",
                                    "25": "0",
                                    "26": "0",
                                    "27": "1",
                                    "28": "1",
                                    "29": "0",
                                    "30": "13",
                                    "31": "0",
                                    "32": "0/13 v MI",
                                    "33": "0",
                                    "34": "0",
                                    "35": "NULL",
                                    "36": "13",
                                    "37": "NULL",
                                    "38": "1"
                                },
                                {
                                    "0": "Kagiso Rabada",
                                    "1": "PBKS",
                                    "2": "https://sports.ndtv.com/cricket/players/64042-kagiso-rabada-playerprofile",
                                    "3": "Bowler ",
                                    "4": "9.25",
                                    "5": "Kagiso Rabada",
                                    "6": "May 25, 1995 Johannesburg",
                                    "7": "26 Years, 9 Months, 22 Days",
                                    "8": "South Africa",
                                    "9": "Left Handed",
                                    "10": "Right-arm fast",
                                    "11": "IPL",
                                    "12": "50",
                                    "13": "18",
                                    "14": "8",
                                    "15": "138",
                                    "16": "44 v MI",
                                    "17": "0",
                                    "18": "0",
                                    "19": "11",
                                    "20": "4",
                                    "21": "13.8",
                                    "22": "102.98",
                                    "23": "23",
                                    "24": "0",
                                    "25": "5",
                                    "26": "2",
                                    "27": "50",
                                    "28": "190",
                                    "29": "2",
                                    "30": "1560",
                                    "31": "76",
                                    "32": "4/21 v RCB",
                                    "33": "4",
                                    "34": "0",
                                    "35": "20.52",
                                    "36": "8.21",
                                    "37": "15",
                                    "38": "50"
                                },
                                {
                                    "0": "Shahrukh Khan",
                                    "1": "PBKS",
                                    "2": "https://sports.ndtv.com/cricket/players/113433-shahrukh-khan-playerprofile",
                                    "3": "All-Rounder ",
                                    "4": "9",
                                    "5": "Masood Shahrukh Khan",
                                    "6": "May 27, 1995 Chennai, Tamil Nadu",
                                    "7": "26 Years, 9 Months, 20 Days",
                                    "8": "India",
                                    "9": "Right Handed",
                                    "10": "Off break",
                                    "11": "NULL",
                                    "12": "11",
                                    "13": "10",
                                    "14": "3",
                                    "15": "153",
                                    "16": "47 v CSK",
                                    "17": "0",
                                    "18": "0",
                                    "19": "9",
                                    "20": "10",
                                    "21": "21.85",
                                    "22": "134.21",
                                    "23": "4",
                                    "24": "0",
                                    "25": "1",
                                    "26": "1",
                                    "27": "NULL",
                                    "28": "NULL",
                                    "29": "NULL",
                                    "30": "NULL",
                                    "31": "NULL",
                                    "32": "NULL",
                                    "33": "NULL",
                                    "34": "NULL",
                                    "35": "NULL",
                                    "36": "NULL",
                                    "37": "NULL",
                                    "38": "NULL"
                                },
                                {
                                    "0": "Shikhar Dhawan",
                                    "1": "PBKS",
                                    "2": "https://sports.ndtv.com/cricket/players/737-shikhar-dhawan-playerprofile",
                                    "3": "Batsman ",
                                    "4": "8.25",
                                    "5": "Shikhar Dhawan",
                                    "6": "December 5, 1985 Delhi",
                                    "7": "36 Years, 3 Months, 10 Days",
                                    "8": "India",
                                    "9": "Left Handed",
                                    "10": "Off break",
                                    "11": "IPL",
                                    "12": "192",
                                    "13": "191",
                                    "14": "25",
                                    "15": "5784",
                                    "16": "106* v PBKS",
                                    "17": "2",
                                    "18": "44",
                                    "19": "654",
                                    "20": "124",
                                    "21": "34.84",
                                    "22": "126.64",
                                    "23": "82",
                                    "24": "0",
                                    "25": "11",
                                    "26": "16",
                                    "27": "6",
                                    "28": "8",
                                    "29": "0",
                                    "30": "66",
                                    "31": "4",
                                    "32": "1/7 v DC",
                                    "33": "0",
                                    "34": "0",
                                    "35": "16.5",
                                    "36": "8.25",
                                    "37": "12",
                                    "38": "6"
                                }
                            ]
                        },
                        "text/html": "<table><tr><th>Name</th><th>Team</th><th>Url</th><th>Type</th><th>ValueinCR</th><th>Full_Name</th><th>Born</th><th>Age</th><th>National_Side</th><th>Batting_Style</th><th>Bowling</th><th>Sport</th><th>MatchPlayed</th><th>InningsBatted</th><th>NotOuts</th><th>RunsScored</th><th>HighestInnScore</th><th>_100s</th><th>_50s</th><th>_4s</th><th>_6s</th><th>BattingAVG</th><th>BattingS_R</th><th>CatchesTaken</th><th>StumpingsMade</th><th>Ducks</th><th>R_O</th><th>InningsBowled</th><th>Overs</th><th>Maidens</th><th>RunsConceded</th><th>Wickets</th><th>Best</th><th>_3s</th><th>_5s</th><th>BowlingAVG</th><th>EconomyRate</th><th>S_R</th><th>Mtc</th></tr><tr><td>Mayank Agarwal</td><td>PBKS</td><td>https://sports.ndtv.com/cricket/players/1430-mayank-agarwal-playerprofile</td><td>Batsman </td><td>12</td><td>Mayank Anurag Agarwal</td><td>February 16, 1991 Bangalore, Karnataka</td><td>31 Years, 0 Months, 28 Days</td><td>India</td><td>Right Handed</td><td>Off break</td><td>NULL</td><td>100</td><td>95</td><td>4</td><td>2131</td><td>106 v RR</td><td>1</td><td>11</td><td>203</td><td>85</td><td>23.41</td><td>135.47</td><td>40</td><td>0</td><td>6</td><td>4</td><td>NULL</td><td>NULL</td><td>NULL</td><td>NULL</td><td>NULL</td><td>NULL</td><td>NULL</td><td>NULL</td><td>NULL</td><td>NULL</td><td>NULL</td><td>NULL</td></tr><tr><td>Liam Livingstone</td><td>PBKS</td><td>https://sports.ndtv.com/cricket/players/64363-liam-stephen-livingstone-playerprofile</td><td>All-Rounder </td><td>11.5</td><td>Liam Stephen Livingstone</td><td>August 4, 1993 Barrow-in-Furness, Cumberland</td><td>28 Years, 7 Months, 11 Days</td><td>England</td><td>Right Handed</td><td>Leg break</td><td>IPL</td><td>9</td><td>9</td><td>1</td><td>112</td><td>44 v SRH</td><td>0</td><td>0</td><td>9</td><td>6</td><td>14</td><td>125.84</td><td>7</td><td>0</td><td>0</td><td>0</td><td>1</td><td>1</td><td>0</td><td>13</td><td>0</td><td>0/13 v MI</td><td>0</td><td>0</td><td>NULL</td><td>13</td><td>NULL</td><td>1</td></tr><tr><td>Kagiso Rabada</td><td>PBKS</td><td>https://sports.ndtv.com/cricket/players/64042-kagiso-rabada-playerprofile</td><td>Bowler </td><td>9.25</td><td>Kagiso Rabada</td><td>May 25, 1995 Johannesburg</td><td>26 Years, 9 Months, 22 Days</td><td>South Africa</td><td>Left Handed</td><td>Right-arm fast</td><td>IPL</td><td>50</td><td>18</td><td>8</td><td>138</td><td>44 v MI</td><td>0</td><td>0</td><td>11</td><td>4</td><td>13.8</td><td>102.98</td><td>23</td><td>0</td><td>5</td><td>2</td><td>50</td><td>190</td><td>2</td><td>1560</td><td>76</td><td>4/21 v RCB</td><td>4</td><td>0</td><td>20.52</td><td>8.21</td><td>15</td><td>50</td></tr><tr><td>Shahrukh Khan</td><td>PBKS</td><td>https://sports.ndtv.com/cricket/players/113433-shahrukh-khan-playerprofile</td><td>All-Rounder </td><td>9</td><td>Masood Shahrukh Khan</td><td>May 27, 1995 Chennai, Tamil Nadu</td><td>26 Years, 9 Months, 20 Days</td><td>India</td><td>Right Handed</td><td>Off break</td><td>NULL</td><td>11</td><td>10</td><td>3</td><td>153</td><td>47 v CSK</td><td>0</td><td>0</td><td>9</td><td>10</td><td>21.85</td><td>134.21</td><td>4</td><td>0</td><td>1</td><td>1</td><td>NULL</td><td>NULL</td><td>NULL</td><td>NULL</td><td>NULL</td><td>NULL</td><td>NULL</td><td>NULL</td><td>NULL</td><td>NULL</td><td>NULL</td><td>NULL</td></tr><tr><td>Shikhar Dhawan</td><td>PBKS</td><td>https://sports.ndtv.com/cricket/players/737-shikhar-dhawan-playerprofile</td><td>Batsman </td><td>8.25</td><td>Shikhar Dhawan</td><td>December 5, 1985 Delhi</td><td>36 Years, 3 Months, 10 Days</td><td>India</td><td>Left Handed</td><td>Off break</td><td>IPL</td><td>192</td><td>191</td><td>25</td><td>5784</td><td>106* v PBKS</td><td>2</td><td>44</td><td>654</td><td>124</td><td>34.84</td><td>126.64</td><td>82</td><td>0</td><td>11</td><td>16</td><td>6</td><td>8</td><td>0</td><td>66</td><td>4</td><td>1/7 v DC</td><td>0</td><td>0</td><td>16.5</td><td>8.25</td><td>12</td><td>6</td></tr></table>"
                    },
                    "metadata": {}
                }
            ],
            "execution_count": 1
        },
        {
            "cell_type": "markdown",
            "source": [
                "**Displaying different teams in IPL using Python and SQL**"
            ],
            "metadata": {
                "azdata_cell_guid": "35e58ef6-c955-4dea-953b-f16c2551c9cf"
            },
            "attachments": {}
        },
        {
            "cell_type": "code",
            "source": [
                "df_ball.BattingTeam.unique()"
            ],
            "metadata": {
                "azdata_cell_guid": "83f6f70c-99a3-4d92-ace3-becb9a6adf04",
                "language": "python"
            },
            "outputs": [
                {
                    "output_type": "execute_result",
                    "execution_count": 14,
                    "data": {
                        "text/plain": "array(['Rajasthan Royals', 'Gujarat Titans',\n       'Royal Challengers Bangalore', 'Lucknow Super Giants',\n       'Sunrisers Hyderabad', 'Punjab Kings', 'Delhi Capitals',\n       'Mumbai Indians', 'Chennai Super Kings', 'Kolkata Knight Riders'],\n      dtype=object)"
                    },
                    "metadata": {}
                }
            ],
            "execution_count": 14
        },
        {
            "cell_type": "code",
            "source": [
                "SELECT distinct BattingTeam FROM [Indian_Premier_League].[dbo].[IPL_Ball_by_Ball_2022]"
            ],
            "metadata": {
                "language": "python",
                "azdata_cell_guid": "414eecb2-c1f2-4886-bd4d-be0ae719485b"
            },
            "outputs": [
                {
                    "output_type": "display_data",
                    "data": {
                        "text/html": "(10 rows affected)"
                    },
                    "metadata": {}
                },
                {
                    "output_type": "display_data",
                    "data": {
                        "text/html": "Total execution time: 00:00:00.053"
                    },
                    "metadata": {}
                },
                {
                    "output_type": "execute_result",
                    "execution_count": 1,
                    "data": {
                        "application/vnd.dataresource+json": {
                            "schema": {
                                "fields": [
                                    {
                                        "name": "BattingTeam"
                                    }
                                ]
                            },
                            "data": [
                                {
                                    "0": "Punjab Kings"
                                },
                                {
                                    "0": "Kolkata Knight Riders"
                                },
                                {
                                    "0": "Rajasthan Royals"
                                },
                                {
                                    "0": "Lucknow Super Giants"
                                },
                                {
                                    "0": "Gujarat Titans"
                                },
                                {
                                    "0": "Chennai Super Kings"
                                },
                                {
                                    "0": "Royal Challengers Bangalore"
                                },
                                {
                                    "0": "Sunrisers Hyderabad"
                                },
                                {
                                    "0": "Mumbai Indians"
                                },
                                {
                                    "0": "Delhi Capitals"
                                }
                            ]
                        },
                        "text/html": "<table><tr><th>BattingTeam</th></tr><tr><td>Punjab Kings</td></tr><tr><td>Kolkata Knight Riders</td></tr><tr><td>Rajasthan Royals</td></tr><tr><td>Lucknow Super Giants</td></tr><tr><td>Gujarat Titans</td></tr><tr><td>Chennai Super Kings</td></tr><tr><td>Royal Challengers Bangalore</td></tr><tr><td>Sunrisers Hyderabad</td></tr><tr><td>Mumbai Indians</td></tr><tr><td>Delhi Capitals</td></tr></table>"
                    },
                    "metadata": {}
                }
            ],
            "execution_count": 1
        },
        {
            "cell_type": "markdown",
            "source": [
                "**Displaying different batsman in IPL using Python and SQL**"
            ],
            "metadata": {
                "azdata_cell_guid": "bb5e1ae6-6c58-4c07-8d9a-790c2a4ffc3a"
            },
            "attachments": {}
        },
        {
            "cell_type": "code",
            "source": [
                "df_ball[\"batter\"].unique()"
            ],
            "metadata": {
                "azdata_cell_guid": "3b580c5d-6431-416e-a9a6-ba25dfb8ace3",
                "language": "python"
            },
            "outputs": [
                {
                    "output_type": "execute_result",
                    "execution_count": 15,
                    "data": {
                        "text/plain": "array(['YBK Jaiswal', 'JC Buttler', 'SV Samson', 'D Padikkal',\n       'SO Hetmyer', 'R Ashwin', 'R Parag', 'TA Boult', 'OC McCoy',\n       'WP Saha', 'Shubman Gill', 'MS Wade', 'HH Pandya', 'DA Miller',\n       'V Kohli', 'F du Plessis', 'RM Patidar', 'GJ Maxwell', 'MK Lomror',\n       'KD Karthik', 'Shahbaz Ahmed', 'PWH de Silva', 'HV Patel',\n       'JR Hazlewood', 'Q de Kock', 'KL Rahul', 'M Vohra', 'DJ Hooda',\n       'MP Stoinis', 'E Lewis', 'KH Pandya', 'PVD Chameera', 'PK Garg',\n       'Abhishek Sharma', 'RA Tripathi', 'AK Markram', 'N Pooran',\n       'Washington Sundar', 'R Shepherd', 'J Suchith', 'B Kumar',\n       'Umran Malik', 'JM Bairstow', 'S Dhawan', 'M Shahrukh Khan',\n       'MA Agarwal', 'LS Livingstone', 'JM Sharma', 'PN Mankad',\n       'PP Shaw', 'DA Warner', 'MR Marsh', 'RR Pant', 'SN Khan',\n       'R Powell', 'AR Patel', 'SN Thakur', 'Kuldeep Yadav',\n       'Ishan Kishan', 'RG Sharma', 'D Brevis', 'Tilak Varma', 'TH David',\n       'Ramandeep Singh', 'DR Sams', 'RD Gaikwad', 'DP Conway', 'MM Ali',\n       'N Jagadeesan', 'AT Rayudu', 'MS Dhoni', 'Simarjeet Singh',\n       'MJ Santner', 'R Tewatia', 'Rashid Khan', 'VR Iyer', 'N Rana',\n       'A Tomar', 'SS Iyer', 'SW Billings', 'AD Russell', 'RK Singh',\n       'SP Narine', 'UT Yadav', 'KS Williamson', 'T Stubbs',\n       'R Sanjay Yadav', 'JJ Bumrah', 'Lalit Yadav', 'PBB Rajapaksa',\n       'Harpreet Brar', 'R Dhawan', 'RD Chahar', 'K Rabada',\n       'Arshdeep Singh', 'JDS Neesham', 'A Badoni', 'JO Holder',\n       'Mohsin Khan', 'Avesh Khan', 'S Dube', 'AM Rahane',\n       'Shashank Singh', 'M Jansen', 'Mohammed Siraj', 'RV Uthappa',\n       'DJ Bravo', 'M Theekshana', 'Mukesh Choudhary', 'HR Shokeen',\n       'HE van der Dussen', 'KS Bharat', 'KS Sharma', 'SP Jackson',\n       'PJ Cummins', 'TG Southee', 'KA Pollard', 'M Ashwin',\n       'K Kartikeya', 'RP Meredith', 'RV Patel', 'A Nortje', 'KK Ahmed',\n       'Kartik Tyagi', 'Fazalhaq Farooqi', 'B Indrajith', 'AJ Finch',\n       'AS Roy', 'Shivam Mavi', 'Harshit Rana', 'SA Yadav',\n       'B Sai Sudharsan', 'Mandeep Singh', 'SA Abbott', 'S Gopal',\n       'RA Jadeja', 'D Pretorius', 'PJ Sangwan', 'LH Ferguson',\n       'AS Joseph', 'KK Nair', 'DJ Mitchell', 'A Manohar',\n       'M Prasidh Krishna', 'SS Prabhudessai', 'MK Pandey', 'JD Unadkat',\n       'Anuj Rawat', 'Yash Dayal', 'NT Ellis', 'VG Arora', 'Ravi Bishnoi',\n       'CV Varun', 'V Shankar', 'P Simran Singh', 'OF Smith', 'FA Allen',\n       'TS Mills', 'Aman Hakim Khan', 'YS Chahal', 'KR Sen', 'Akash Deep',\n       'K Gowtham', 'Rasikh Salam', 'CJ Jordan', 'DJ Willey',\n       'SE Rutherford', 'Abdul Samad', 'TL Seifert', 'Mustafizur Rahman',\n       'Navdeep Saini', 'Anmolpreet Singh', 'RA Bawa', 'NM Coulter-Nile'],\n      dtype=object)"
                    },
                    "metadata": {}
                }
            ],
            "execution_count": 15
        },
        {
            "cell_type": "code",
            "source": [
                "SELECT distinct batter FROM [Indian_Premier_League].[dbo].[IPL_Ball_by_Ball_2022]"
            ],
            "metadata": {
                "language": "python",
                "azdata_cell_guid": "54b48bcd-aa25-46f1-a40f-feee21552b40"
            },
            "outputs": [
                {
                    "output_type": "display_data",
                    "data": {
                        "text/html": "(174 rows affected)"
                    },
                    "metadata": {}
                },
                {
                    "output_type": "display_data",
                    "data": {
                        "text/html": "Total execution time: 00:00:00.042"
                    },
                    "metadata": {}
                },
                {
                    "output_type": "execute_result",
                    "execution_count": 2,
                    "data": {
                        "application/vnd.dataresource+json": {
                            "schema": {
                                "fields": [
                                    {
                                        "name": "batter"
                                    }
                                ]
                            },
                            "data": [
                                {
                                    "0": "SV Samson"
                                },
                                {
                                    "0": "M Shahrukh Khan"
                                },
                                {
                                    "0": "Fazalhaq Farooqi"
                                },
                                {
                                    "0": "TG Southee"
                                },
                                {
                                    "0": "AS Roy"
                                },
                                {
                                    "0": "SP Narine"
                                },
                                {
                                    "0": "N Rana"
                                },
                                {
                                    "0": "VG Arora"
                                },
                                {
                                    "0": "MS Dhoni"
                                },
                                {
                                    "0": "Rasikh Salam"
                                },
                                {
                                    "0": "Aman Hakim Khan"
                                },
                                {
                                    "0": "KD Karthik"
                                },
                                {
                                    "0": "MS Wade"
                                },
                                {
                                    "0": "KH Pandya"
                                },
                                {
                                    "0": "TA Boult"
                                },
                                {
                                    "0": "KS Sharma"
                                },
                                {
                                    "0": "RG Sharma"
                                },
                                {
                                    "0": "KL Rahul"
                                },
                                {
                                    "0": "GJ Maxwell"
                                },
                                {
                                    "0": "Tilak Varma"
                                },
                                {
                                    "0": "DP Conway"
                                },
                                {
                                    "0": "SS Prabhudessai"
                                },
                                {
                                    "0": "RD Gaikwad"
                                },
                                {
                                    "0": "HE van der Dussen"
                                },
                                {
                                    "0": "Navdeep Saini"
                                },
                                {
                                    "0": "Shahbaz Ahmed"
                                },
                                {
                                    "0": "PK Garg"
                                },
                                {
                                    "0": "RR Pant"
                                },
                                {
                                    "0": "TL Seifert"
                                },
                                {
                                    "0": "JDS Neesham"
                                },
                                {
                                    "0": "R Shepherd"
                                },
                                {
                                    "0": "Harpreet Brar"
                                },
                                {
                                    "0": "PJ Cummins"
                                },
                                {
                                    "0": "PP Shaw"
                                },
                                {
                                    "0": "SS Iyer"
                                },
                                {
                                    "0": "Mohsin Khan"
                                },
                                {
                                    "0": "KS Williamson"
                                },
                                {
                                    "0": "RA Tripathi"
                                },
                                {
                                    "0": "D Pretorius"
                                },
                                {
                                    "0": "LH Ferguson"
                                },
                                {
                                    "0": "MP Stoinis"
                                },
                                {
                                    "0": "R Tewatia"
                                },
                                {
                                    "0": "RV Patel"
                                },
                                {
                                    "0": "TS Mills"
                                },
                                {
                                    "0": "PVD Chameera"
                                },
                                {
                                    "0": "DJ Mitchell"
                                },
                                {
                                    "0": "JD Unadkat"
                                },
                                {
                                    "0": "DA Miller"
                                },
                                {
                                    "0": "SW Billings"
                                },
                                {
                                    "0": "D Padikkal"
                                },
                                {
                                    "0": "RA Jadeja"
                                },
                                {
                                    "0": "R Ashwin"
                                },
                                {
                                    "0": "M Vohra"
                                },
                                {
                                    "0": "Mandeep Singh"
                                },
                                {
                                    "0": "V Kohli"
                                },
                                {
                                    "0": "AJ Finch"
                                },
                                {
                                    "0": "PBB Rajapaksa"
                                },
                                {
                                    "0": "M Ashwin"
                                },
                                {
                                    "0": "Ramandeep Singh"
                                },
                                {
                                    "0": "MJ Santner"
                                },
                                {
                                    "0": "UT Yadav"
                                },
                                {
                                    "0": "Yash Dayal"
                                },
                                {
                                    "0": "Q de Kock"
                                },
                                {
                                    "0": "MK Pandey"
                                },
                                {
                                    "0": "MA Agarwal"
                                },
                                {
                                    "0": "SA Yadav"
                                },
                                {
                                    "0": "AS Joseph"
                                },
                                {
                                    "0": "JC Buttler"
                                },
                                {
                                    "0": "D Brevis"
                                },
                                {
                                    "0": "JM Bairstow"
                                },
                                {
                                    "0": "Kuldeep Yadav"
                                },
                                {
                                    "0": "M Prasidh Krishna"
                                },
                                {
                                    "0": "CJ Jordan"
                                },
                                {
                                    "0": "DJ Willey"
                                },
                                {
                                    "0": "K Gowtham"
                                },
                                {
                                    "0": "DR Sams"
                                },
                                {
                                    "0": "A Tomar"
                                },
                                {
                                    "0": "WP Saha"
                                },
                                {
                                    "0": "S Dhawan"
                                },
                                {
                                    "0": "R Dhawan"
                                },
                                {
                                    "0": "B Sai Sudharsan"
                                },
                                {
                                    "0": "OF Smith"
                                },
                                {
                                    "0": "Rashid Khan"
                                },
                                {
                                    "0": "P Simran Singh"
                                },
                                {
                                    "0": "RD Chahar"
                                },
                                {
                                    "0": "Mohammed Siraj"
                                },
                                {
                                    "0": "Harshit Rana"
                                },
                                {
                                    "0": "DA Warner"
                                },
                                {
                                    "0": "DJ Hooda"
                                },
                                {
                                    "0": "Anuj Rawat"
                                },
                                {
                                    "0": "HV Patel"
                                },
                                {
                                    "0": "Shashank Singh"
                                },
                                {
                                    "0": "RV Uthappa"
                                },
                                {
                                    "0": "Abhishek Sharma"
                                },
                                {
                                    "0": "S Dube"
                                },
                                {
                                    "0": "PJ Sangwan"
                                },
                                {
                                    "0": "Abdul Samad"
                                },
                                {
                                    "0": "Ishan Kishan"
                                },
                                {
                                    "0": "Kartik Tyagi"
                                },
                                {
                                    "0": "B Indrajith"
                                },
                                {
                                    "0": "AK Markram"
                                },
                                {
                                    "0": "OC McCoy"
                                },
                                {
                                    "0": "KR Sen"
                                },
                                {
                                    "0": "CV Varun"
                                },
                                {
                                    "0": "N Pooran"
                                },
                                {
                                    "0": "A Badoni"
                                },
                                {
                                    "0": "KK Nair"
                                },
                                {
                                    "0": "J Suchith"
                                },
                                {
                                    "0": "Avesh Khan"
                                },
                                {
                                    "0": "MK Lomror"
                                },
                                {
                                    "0": "Anmolpreet Singh"
                                },
                                {
                                    "0": "Simarjeet Singh"
                                },
                                {
                                    "0": "SN Thakur"
                                },
                                {
                                    "0": "FA Allen"
                                },
                                {
                                    "0": "T Stubbs"
                                },
                                {
                                    "0": "YBK Jaiswal"
                                },
                                {
                                    "0": "Washington Sundar"
                                },
                                {
                                    "0": "V Shankar"
                                },
                                {
                                    "0": "E Lewis"
                                },
                                {
                                    "0": "SA Abbott"
                                },
                                {
                                    "0": "RK Singh"
                                },
                                {
                                    "0": "RM Patidar"
                                },
                                {
                                    "0": "MM Ali"
                                },
                                {
                                    "0": "S Gopal"
                                },
                                {
                                    "0": "NT Ellis"
                                },
                                {
                                    "0": "SN Khan"
                                },
                                {
                                    "0": "HR Shokeen"
                                },
                                {
                                    "0": "TH David"
                                },
                                {
                                    "0": "Lalit Yadav"
                                },
                                {
                                    "0": "SE Rutherford"
                                },
                                {
                                    "0": "K Rabada"
                                },
                                {
                                    "0": "R Sanjay Yadav"
                                },
                                {
                                    "0": "A Manohar"
                                },
                                {
                                    "0": "HH Pandya"
                                },
                                {
                                    "0": "PWH de Silva"
                                },
                                {
                                    "0": "VR Iyer"
                                },
                                {
                                    "0": "AT Rayudu"
                                },
                                {
                                    "0": "KA Pollard"
                                },
                                {
                                    "0": "Arshdeep Singh"
                                },
                                {
                                    "0": "RA Bawa"
                                },
                                {
                                    "0": "Shivam Mavi"
                                },
                                {
                                    "0": "Ravi Bishnoi"
                                },
                                {
                                    "0": "R Parag"
                                },
                                {
                                    "0": "LS Livingstone"
                                },
                                {
                                    "0": "JM Sharma"
                                },
                                {
                                    "0": "PN Mankad"
                                },
                                {
                                    "0": "A Nortje"
                                },
                                {
                                    "0": "JO Holder"
                                },
                                {
                                    "0": "KK Ahmed"
                                },
                                {
                                    "0": "YS Chahal"
                                },
                                {
                                    "0": "M Jansen"
                                },
                                {
                                    "0": "Akash Deep"
                                },
                                {
                                    "0": "JJ Bumrah"
                                },
                                {
                                    "0": "KS Bharat"
                                },
                                {
                                    "0": "K Kartikeya"
                                },
                                {
                                    "0": "Umran Malik"
                                },
                                {
                                    "0": "Mukesh Choudhary"
                                },
                                {
                                    "0": "RP Meredith"
                                },
                                {
                                    "0": "Mustafizur Rahman"
                                },
                                {
                                    "0": "SO Hetmyer"
                                },
                                {
                                    "0": "M Theekshana"
                                },
                                {
                                    "0": "NM Coulter-Nile"
                                },
                                {
                                    "0": "JR Hazlewood"
                                },
                                {
                                    "0": "AR Patel"
                                },
                                {
                                    "0": "SP Jackson"
                                },
                                {
                                    "0": "Shubman Gill"
                                },
                                {
                                    "0": "R Powell"
                                },
                                {
                                    "0": "B Kumar"
                                },
                                {
                                    "0": "MR Marsh"
                                },
                                {
                                    "0": "N Jagadeesan"
                                },
                                {
                                    "0": "AM Rahane"
                                },
                                {
                                    "0": "F du Plessis"
                                },
                                {
                                    "0": "AD Russell"
                                },
                                {
                                    "0": "DJ Bravo"
                                }
                            ]
                        },
                        "text/html": "<table><tr><th>batter</th></tr><tr><td>SV Samson</td></tr><tr><td>M Shahrukh Khan</td></tr><tr><td>Fazalhaq Farooqi</td></tr><tr><td>TG Southee</td></tr><tr><td>AS Roy</td></tr><tr><td>SP Narine</td></tr><tr><td>N Rana</td></tr><tr><td>VG Arora</td></tr><tr><td>MS Dhoni</td></tr><tr><td>Rasikh Salam</td></tr><tr><td>Aman Hakim Khan</td></tr><tr><td>KD Karthik</td></tr><tr><td>MS Wade</td></tr><tr><td>KH Pandya</td></tr><tr><td>TA Boult</td></tr><tr><td>KS Sharma</td></tr><tr><td>RG Sharma</td></tr><tr><td>KL Rahul</td></tr><tr><td>GJ Maxwell</td></tr><tr><td>Tilak Varma</td></tr><tr><td>DP Conway</td></tr><tr><td>SS Prabhudessai</td></tr><tr><td>RD Gaikwad</td></tr><tr><td>HE van der Dussen</td></tr><tr><td>Navdeep Saini</td></tr><tr><td>Shahbaz Ahmed</td></tr><tr><td>PK Garg</td></tr><tr><td>RR Pant</td></tr><tr><td>TL Seifert</td></tr><tr><td>JDS Neesham</td></tr><tr><td>R Shepherd</td></tr><tr><td>Harpreet Brar</td></tr><tr><td>PJ Cummins</td></tr><tr><td>PP Shaw</td></tr><tr><td>SS Iyer</td></tr><tr><td>Mohsin Khan</td></tr><tr><td>KS Williamson</td></tr><tr><td>RA Tripathi</td></tr><tr><td>D Pretorius</td></tr><tr><td>LH Ferguson</td></tr><tr><td>MP Stoinis</td></tr><tr><td>R Tewatia</td></tr><tr><td>RV Patel</td></tr><tr><td>TS Mills</td></tr><tr><td>PVD Chameera</td></tr><tr><td>DJ Mitchell</td></tr><tr><td>JD Unadkat</td></tr><tr><td>DA Miller</td></tr><tr><td>SW Billings</td></tr><tr><td>D Padikkal</td></tr><tr><td>RA Jadeja</td></tr><tr><td>R Ashwin</td></tr><tr><td>M Vohra</td></tr><tr><td>Mandeep Singh</td></tr><tr><td>V Kohli</td></tr><tr><td>AJ Finch</td></tr><tr><td>PBB Rajapaksa</td></tr><tr><td>M Ashwin</td></tr><tr><td>Ramandeep Singh</td></tr><tr><td>MJ Santner</td></tr><tr><td>UT Yadav</td></tr><tr><td>Yash Dayal</td></tr><tr><td>Q de Kock</td></tr><tr><td>MK Pandey</td></tr><tr><td>MA Agarwal</td></tr><tr><td>SA Yadav</td></tr><tr><td>AS Joseph</td></tr><tr><td>JC Buttler</td></tr><tr><td>D Brevis</td></tr><tr><td>JM Bairstow</td></tr><tr><td>Kuldeep Yadav</td></tr><tr><td>M Prasidh Krishna</td></tr><tr><td>CJ Jordan</td></tr><tr><td>DJ Willey</td></tr><tr><td>K Gowtham</td></tr><tr><td>DR Sams</td></tr><tr><td>A Tomar</td></tr><tr><td>WP Saha</td></tr><tr><td>S Dhawan</td></tr><tr><td>R Dhawan</td></tr><tr><td>B Sai Sudharsan</td></tr><tr><td>OF Smith</td></tr><tr><td>Rashid Khan</td></tr><tr><td>P Simran Singh</td></tr><tr><td>RD Chahar</td></tr><tr><td>Mohammed Siraj</td></tr><tr><td>Harshit Rana</td></tr><tr><td>DA Warner</td></tr><tr><td>DJ Hooda</td></tr><tr><td>Anuj Rawat</td></tr><tr><td>HV Patel</td></tr><tr><td>Shashank Singh</td></tr><tr><td>RV Uthappa</td></tr><tr><td>Abhishek Sharma</td></tr><tr><td>S Dube</td></tr><tr><td>PJ Sangwan</td></tr><tr><td>Abdul Samad</td></tr><tr><td>Ishan Kishan</td></tr><tr><td>Kartik Tyagi</td></tr><tr><td>B Indrajith</td></tr><tr><td>AK Markram</td></tr><tr><td>OC McCoy</td></tr><tr><td>KR Sen</td></tr><tr><td>CV Varun</td></tr><tr><td>N Pooran</td></tr><tr><td>A Badoni</td></tr><tr><td>KK Nair</td></tr><tr><td>J Suchith</td></tr><tr><td>Avesh Khan</td></tr><tr><td>MK Lomror</td></tr><tr><td>Anmolpreet Singh</td></tr><tr><td>Simarjeet Singh</td></tr><tr><td>SN Thakur</td></tr><tr><td>FA Allen</td></tr><tr><td>T Stubbs</td></tr><tr><td>YBK Jaiswal</td></tr><tr><td>Washington Sundar</td></tr><tr><td>V Shankar</td></tr><tr><td>E Lewis</td></tr><tr><td>SA Abbott</td></tr><tr><td>RK Singh</td></tr><tr><td>RM Patidar</td></tr><tr><td>MM Ali</td></tr><tr><td>S Gopal</td></tr><tr><td>NT Ellis</td></tr><tr><td>SN Khan</td></tr><tr><td>HR Shokeen</td></tr><tr><td>TH David</td></tr><tr><td>Lalit Yadav</td></tr><tr><td>SE Rutherford</td></tr><tr><td>K Rabada</td></tr><tr><td>R Sanjay Yadav</td></tr><tr><td>A Manohar</td></tr><tr><td>HH Pandya</td></tr><tr><td>PWH de Silva</td></tr><tr><td>VR Iyer</td></tr><tr><td>AT Rayudu</td></tr><tr><td>KA Pollard</td></tr><tr><td>Arshdeep Singh</td></tr><tr><td>RA Bawa</td></tr><tr><td>Shivam Mavi</td></tr><tr><td>Ravi Bishnoi</td></tr><tr><td>R Parag</td></tr><tr><td>LS Livingstone</td></tr><tr><td>JM Sharma</td></tr><tr><td>PN Mankad</td></tr><tr><td>A Nortje</td></tr><tr><td>JO Holder</td></tr><tr><td>KK Ahmed</td></tr><tr><td>YS Chahal</td></tr><tr><td>M Jansen</td></tr><tr><td>Akash Deep</td></tr><tr><td>JJ Bumrah</td></tr><tr><td>KS Bharat</td></tr><tr><td>K Kartikeya</td></tr><tr><td>Umran Malik</td></tr><tr><td>Mukesh Choudhary</td></tr><tr><td>RP Meredith</td></tr><tr><td>Mustafizur Rahman</td></tr><tr><td>SO Hetmyer</td></tr><tr><td>M Theekshana</td></tr><tr><td>NM Coulter-Nile</td></tr><tr><td>JR Hazlewood</td></tr><tr><td>AR Patel</td></tr><tr><td>SP Jackson</td></tr><tr><td>Shubman Gill</td></tr><tr><td>R Powell</td></tr><tr><td>B Kumar</td></tr><tr><td>MR Marsh</td></tr><tr><td>N Jagadeesan</td></tr><tr><td>AM Rahane</td></tr><tr><td>F du Plessis</td></tr><tr><td>AD Russell</td></tr><tr><td>DJ Bravo</td></tr></table>"
                    },
                    "metadata": {}
                }
            ],
            "execution_count": 2
        },
        {
            "cell_type": "markdown",
            "source": [
                "**Most number of balls faced by any batter using Python and SQL**"
            ],
            "metadata": {
                "azdata_cell_guid": "356953b0-ca38-416f-8938-563551049e6f"
            },
            "attachments": {}
        },
        {
            "cell_type": "code",
            "source": [
                "batter_counts = df_ball['batter'].value_counts().reset_index()\r\n",
                "batter_counts.columns = ['batter', 'batter_count']\r\n",
                "batter_counts = batter_counts.sort_values(by=['batter_count', 'batter'], ascending=[False, True])\r\n",
                "\r\n",
                "max_batter = batter_counts.iloc[0]['batter']\r\n",
                "max_count = batter_counts.iloc[0]['batter_count']\r\n",
                "\r\n",
                "print(\"Maximum batter name:\", max_batter)\r\n",
                "print(\"Count:\", max_count)"
            ],
            "metadata": {
                "language": "python",
                "azdata_cell_guid": "efd214f3-70f6-47bc-902a-ec418c8b65a1"
            },
            "outputs": [
                {
                    "output_type": "stream",
                    "name": "stdout",
                    "text": "Maximum batter name: JC Buttler\nCount: 596\n"
                }
            ],
            "execution_count": 10
        },
        {
            "cell_type": "code",
            "source": [
                "SELECT top(1) batter, COUNT(*) AS batter_count\r\n",
                "FROM [Indian_Premier_League].[dbo].[IPL_Ball_by_Ball_2022] \r\n",
                "GROUP BY batter\r\n",
                "ORDER BY batter_count desc,batter asc"
            ],
            "metadata": {
                "azdata_cell_guid": "4cd65bb8-eca8-453d-bbcd-7e9ed2ab6f59",
                "language": "python"
            },
            "outputs": [
                {
                    "output_type": "display_data",
                    "data": {
                        "text/html": "(1 row affected)"
                    },
                    "metadata": {}
                },
                {
                    "output_type": "display_data",
                    "data": {
                        "text/html": "Total execution time: 00:00:00.033"
                    },
                    "metadata": {}
                },
                {
                    "output_type": "execute_result",
                    "execution_count": 2,
                    "data": {
                        "application/vnd.dataresource+json": {
                            "schema": {
                                "fields": [
                                    {
                                        "name": "batter"
                                    },
                                    {
                                        "name": "batter_count"
                                    }
                                ]
                            },
                            "data": [
                                {
                                    "0": "JC Buttler",
                                    "1": "596"
                                }
                            ]
                        },
                        "text/html": "<table><tr><th>batter</th><th>batter_count</th></tr><tr><td>JC Buttler</td><td>596</td></tr></table>"
                    },
                    "metadata": {}
                }
            ],
            "execution_count": 2
        },
        {
            "cell_type": "markdown",
            "source": [
                "**Least number of balls faced by any batter**"
            ],
            "metadata": {
                "language": "sql",
                "azdata_cell_guid": "ec714845-a08d-48c6-9e04-67cdc7dc5087"
            },
            "attachments": {}
        },
        {
            "cell_type": "code",
            "source": [
                "batter_counts = df_ball['batter'].value_counts().reset_index()\r\n",
                "batter_counts.columns = ['batter', 'batter_count']\r\n",
                "batter_counts = batter_counts.sort_values(by=['batter_count', 'batter'], ascending=[True, True])\r\n",
                "# batter_counts =batter_counts.sort_values()\r\n",
                "\r\n",
                "min_batter = batter_counts.iloc[0]['batter']\r\n",
                "min_count = batter_counts.iloc[0]['batter_count']\r\n",
                "\r\n",
                "print(\"Minimum batter name:\", min_batter)\r\n",
                "print(\"Count:\", min_count)"
            ],
            "metadata": {
                "language": "python",
                "azdata_cell_guid": "c1284d8f-6d81-4d84-a69b-639555be4713"
            },
            "outputs": [
                {
                    "output_type": "stream",
                    "name": "stdout",
                    "text": "Minimum batter name: PN Mankad\nCount: 1\n"
                }
            ],
            "execution_count": 11
        },
        {
            "cell_type": "code",
            "source": [
                "SELECT top(1) batter, COUNT(*) AS batter_count\r\n",
                "FROM [Indian_Premier_League].[dbo].[IPL_Ball_by_Ball_2022] \r\n",
                "GROUP BY batter\r\n",
                "ORDER BY batter_count ASC,batter"
            ],
            "metadata": {
                "language": "python",
                "azdata_cell_guid": "a9d495e9-a480-4a41-9eda-aa071c81e35f",
                "tags": []
            },
            "outputs": [
                {
                    "output_type": "display_data",
                    "data": {
                        "text/html": "(1 row affected)"
                    },
                    "metadata": {}
                },
                {
                    "output_type": "display_data",
                    "data": {
                        "text/html": "Total execution time: 00:00:00.029"
                    },
                    "metadata": {}
                },
                {
                    "output_type": "execute_result",
                    "execution_count": 1,
                    "data": {
                        "application/vnd.dataresource+json": {
                            "schema": {
                                "fields": [
                                    {
                                        "name": "batter"
                                    },
                                    {
                                        "name": "batter_count"
                                    }
                                ]
                            },
                            "data": [
                                {
                                    "0": "PN Mankad",
                                    "1": "1"
                                }
                            ]
                        },
                        "text/html": "<table><tr><th>batter</th><th>batter_count</th></tr><tr><td>PN Mankad</td><td>1</td></tr></table>"
                    },
                    "metadata": {}
                }
            ],
            "execution_count": 1
        },
        {
            "cell_type": "markdown",
            "source": [
                "**Total runs made <span style=\"color: #0000ff;\">by</span> every players throughout tournment using SQL and Python**"
            ],
            "metadata": {
                "azdata_cell_guid": "bb96e56b-c9d6-444d-ad0a-9803e233c745"
            },
            "attachments": {}
        },
        {
            "cell_type": "code",
            "source": [
                "runs = df_ball.groupby(['batter'])[['batsman_run']].sum()\r\n",
                "print(runs)"
            ],
            "metadata": {
                "language": "python",
                "azdata_cell_guid": "00bbce24-5a37-4e35-b403-7da77205eac2"
            },
            "outputs": [
                {
                    "output_type": "stream",
                    "name": "stdout",
                    "text": "                   batsman_run\nbatter                        \nA Badoni                   161\nA Manohar                  108\nA Nortje                     1\nA Tomar                      4\nAD Russell                 335\n...                        ...\nWP Saha                    317\nWashington Sundar          101\nYBK Jaiswal                258\nYS Chahal                    5\nYash Dayal                   0\n\n[174 rows x 1 columns]\n"
                }
            ],
            "execution_count": 8
        },
        {
            "cell_type": "code",
            "source": [
                "SELECT batter, sum(batsman_run) as batsman_run from [Indian_Premier_League].[dbo].[IPL_Ball_by_Ball_2022] \r\n",
                "group by batter"
            ],
            "metadata": {
                "language": "python",
                "azdata_cell_guid": "f1194521-828b-4992-b7a7-d345b96c3cb0"
            },
            "outputs": [
                {
                    "output_type": "display_data",
                    "data": {
                        "text/html": "(174 rows affected)"
                    },
                    "metadata": {}
                },
                {
                    "output_type": "display_data",
                    "data": {
                        "text/html": "Total execution time: 00:00:00.018"
                    },
                    "metadata": {}
                },
                {
                    "output_type": "execute_result",
                    "execution_count": 2,
                    "data": {
                        "application/vnd.dataresource+json": {
                            "schema": {
                                "fields": [
                                    {
                                        "name": "batter"
                                    },
                                    {
                                        "name": "batsman_run"
                                    }
                                ]
                            },
                            "data": [
                                {
                                    "0": "SV Samson",
                                    "1": "458"
                                },
                                {
                                    "0": "M Shahrukh Khan",
                                    "1": "117"
                                },
                                {
                                    "0": "Fazalhaq Farooqi",
                                    "1": "2"
                                },
                                {
                                    "0": "TG Southee",
                                    "1": "2"
                                },
                                {
                                    "0": "AS Roy",
                                    "1": "0"
                                },
                                {
                                    "0": "SP Narine",
                                    "1": "71"
                                },
                                {
                                    "0": "N Rana",
                                    "1": "361"
                                },
                                {
                                    "0": "VG Arora",
                                    "1": "5"
                                },
                                {
                                    "0": "MS Dhoni",
                                    "1": "232"
                                },
                                {
                                    "0": "Rasikh Salam",
                                    "1": "7"
                                },
                                {
                                    "0": "Aman Hakim Khan",
                                    "1": "5"
                                },
                                {
                                    "0": "KD Karthik",
                                    "1": "330"
                                },
                                {
                                    "0": "MS Wade",
                                    "1": "157"
                                },
                                {
                                    "0": "KH Pandya",
                                    "1": "183"
                                },
                                {
                                    "0": "TA Boult",
                                    "1": "40"
                                },
                                {
                                    "0": "KS Sharma",
                                    "1": "4"
                                },
                                {
                                    "0": "RG Sharma",
                                    "1": "268"
                                },
                                {
                                    "0": "KL Rahul",
                                    "1": "616"
                                },
                                {
                                    "0": "GJ Maxwell",
                                    "1": "301"
                                },
                                {
                                    "0": "Tilak Varma",
                                    "1": "397"
                                },
                                {
                                    "0": "DP Conway",
                                    "1": "252"
                                },
                                {
                                    "0": "SS Prabhudessai",
                                    "1": "67"
                                },
                                {
                                    "0": "RD Gaikwad",
                                    "1": "368"
                                },
                                {
                                    "0": "HE van der Dussen",
                                    "1": "22"
                                },
                                {
                                    "0": "Navdeep Saini",
                                    "1": "2"
                                },
                                {
                                    "0": "Shahbaz Ahmed",
                                    "1": "219"
                                },
                                {
                                    "0": "PK Garg",
                                    "1": "46"
                                },
                                {
                                    "0": "RR Pant",
                                    "1": "340"
                                },
                                {
                                    "0": "TL Seifert",
                                    "1": "24"
                                },
                                {
                                    "0": "JDS Neesham",
                                    "1": "31"
                                },
                                {
                                    "0": "R Shepherd",
                                    "1": "58"
                                },
                                {
                                    "0": "Harpreet Brar",
                                    "1": "22"
                                },
                                {
                                    "0": "PJ Cummins",
                                    "1": "63"
                                },
                                {
                                    "0": "PP Shaw",
                                    "1": "283"
                                },
                                {
                                    "0": "SS Iyer",
                                    "1": "401"
                                },
                                {
                                    "0": "Mohsin Khan",
                                    "1": "23"
                                },
                                {
                                    "0": "KS Williamson",
                                    "1": "216"
                                },
                                {
                                    "0": "RA Tripathi",
                                    "1": "413"
                                },
                                {
                                    "0": "D Pretorius",
                                    "1": "44"
                                },
                                {
                                    "0": "LH Ferguson",
                                    "1": "5"
                                },
                                {
                                    "0": "MP Stoinis",
                                    "1": "156"
                                },
                                {
                                    "0": "R Tewatia",
                                    "1": "217"
                                },
                                {
                                    "0": "RV Patel",
                                    "1": "6"
                                },
                                {
                                    "0": "TS Mills",
                                    "1": "0"
                                },
                                {
                                    "0": "PVD Chameera",
                                    "1": "43"
                                },
                                {
                                    "0": "DJ Mitchell",
                                    "1": "33"
                                },
                                {
                                    "0": "JD Unadkat",
                                    "1": "59"
                                },
                                {
                                    "0": "DA Miller",
                                    "1": "481"
                                },
                                {
                                    "0": "SW Billings",
                                    "1": "169"
                                },
                                {
                                    "0": "D Padikkal",
                                    "1": "376"
                                },
                                {
                                    "0": "RA Jadeja",
                                    "1": "116"
                                },
                                {
                                    "0": "R Ashwin",
                                    "1": "191"
                                },
                                {
                                    "0": "M Vohra",
                                    "1": "19"
                                },
                                {
                                    "0": "Mandeep Singh",
                                    "1": "18"
                                },
                                {
                                    "0": "V Kohli",
                                    "1": "341"
                                },
                                {
                                    "0": "AJ Finch",
                                    "1": "86"
                                },
                                {
                                    "0": "PBB Rajapaksa",
                                    "1": "206"
                                },
                                {
                                    "0": "M Ashwin",
                                    "1": "12"
                                },
                                {
                                    "0": "Ramandeep Singh",
                                    "1": "45"
                                },
                                {
                                    "0": "MJ Santner",
                                    "1": "22"
                                },
                                {
                                    "0": "UT Yadav",
                                    "1": "55"
                                },
                                {
                                    "0": "Yash Dayal",
                                    "1": "0"
                                },
                                {
                                    "0": "Q de Kock",
                                    "1": "508"
                                },
                                {
                                    "0": "MK Pandey",
                                    "1": "88"
                                },
                                {
                                    "0": "MA Agarwal",
                                    "1": "196"
                                },
                                {
                                    "0": "SA Yadav",
                                    "1": "303"
                                },
                                {
                                    "0": "AS Joseph",
                                    "1": "5"
                                },
                                {
                                    "0": "JC Buttler",
                                    "1": "863"
                                },
                                {
                                    "0": "D Brevis",
                                    "1": "161"
                                },
                                {
                                    "0": "JM Bairstow",
                                    "1": "253"
                                },
                                {
                                    "0": "Kuldeep Yadav",
                                    "1": "48"
                                },
                                {
                                    "0": "M Prasidh Krishna",
                                    "1": "6"
                                },
                                {
                                    "0": "CJ Jordan",
                                    "1": "11"
                                },
                                {
                                    "0": "DJ Willey",
                                    "1": "18"
                                },
                                {
                                    "0": "K Gowtham",
                                    "1": "0"
                                },
                                {
                                    "0": "DR Sams",
                                    "1": "38"
                                },
                                {
                                    "0": "A Tomar",
                                    "1": "4"
                                },
                                {
                                    "0": "WP Saha",
                                    "1": "317"
                                },
                                {
                                    "0": "S Dhawan",
                                    "1": "460"
                                },
                                {
                                    "0": "R Dhawan",
                                    "1": "37"
                                },
                                {
                                    "0": "B Sai Sudharsan",
                                    "1": "145"
                                },
                                {
                                    "0": "OF Smith",
                                    "1": "51"
                                },
                                {
                                    "0": "Rashid Khan",
                                    "1": "91"
                                },
                                {
                                    "0": "P Simran Singh",
                                    "1": "14"
                                },
                                {
                                    "0": "RD Chahar",
                                    "1": "77"
                                },
                                {
                                    "0": "Mohammed Siraj",
                                    "1": "30"
                                },
                                {
                                    "0": "Harshit Rana",
                                    "1": "2"
                                },
                                {
                                    "0": "DA Warner",
                                    "1": "432"
                                },
                                {
                                    "0": "DJ Hooda",
                                    "1": "451"
                                },
                                {
                                    "0": "Anuj Rawat",
                                    "1": "129"
                                },
                                {
                                    "0": "HV Patel",
                                    "1": "43"
                                },
                                {
                                    "0": "Shashank Singh",
                                    "1": "69"
                                },
                                {
                                    "0": "RV Uthappa",
                                    "1": "230"
                                },
                                {
                                    "0": "Abhishek Sharma",
                                    "1": "426"
                                },
                                {
                                    "0": "S Dube",
                                    "1": "289"
                                },
                                {
                                    "0": "PJ Sangwan",
                                    "1": "2"
                                },
                                {
                                    "0": "Abdul Samad",
                                    "1": "4"
                                },
                                {
                                    "0": "Ishan Kishan",
                                    "1": "418"
                                },
                                {
                                    "0": "Kartik Tyagi",
                                    "1": "7"
                                },
                                {
                                    "0": "B Indrajith",
                                    "1": "21"
                                },
                                {
                                    "0": "AK Markram",
                                    "1": "381"
                                },
                                {
                                    "0": "OC McCoy",
                                    "1": "8"
                                },
                                {
                                    "0": "KR Sen",
                                    "1": "0"
                                },
                                {
                                    "0": "CV Varun",
                                    "1": "12"
                                },
                                {
                                    "0": "N Pooran",
                                    "1": "306"
                                },
                                {
                                    "0": "A Badoni",
                                    "1": "161"
                                },
                                {
                                    "0": "KK Nair",
                                    "1": "16"
                                },
                                {
                                    "0": "J Suchith",
                                    "1": "2"
                                },
                                {
                                    "0": "Avesh Khan",
                                    "1": "22"
                                },
                                {
                                    "0": "MK Lomror",
                                    "1": "86"
                                },
                                {
                                    "0": "Anmolpreet Singh",
                                    "1": "13"
                                },
                                {
                                    "0": "Simarjeet Singh",
                                    "1": "7"
                                },
                                {
                                    "0": "SN Thakur",
                                    "1": "120"
                                },
                                {
                                    "0": "FA Allen",
                                    "1": "8"
                                },
                                {
                                    "0": "T Stubbs",
                                    "1": "2"
                                },
                                {
                                    "0": "YBK Jaiswal",
                                    "1": "258"
                                },
                                {
                                    "0": "Washington Sundar",
                                    "1": "101"
                                },
                                {
                                    "0": "V Shankar",
                                    "1": "19"
                                },
                                {
                                    "0": "E Lewis",
                                    "1": "73"
                                },
                                {
                                    "0": "SA Abbott",
                                    "1": "7"
                                },
                                {
                                    "0": "RK Singh",
                                    "1": "174"
                                },
                                {
                                    "0": "RM Patidar",
                                    "1": "333"
                                },
                                {
                                    "0": "MM Ali",
                                    "1": "244"
                                },
                                {
                                    "0": "S Gopal",
                                    "1": "9"
                                },
                                {
                                    "0": "NT Ellis",
                                    "1": "0"
                                },
                                {
                                    "0": "SN Khan",
                                    "1": "91"
                                },
                                {
                                    "0": "HR Shokeen",
                                    "1": "43"
                                },
                                {
                                    "0": "TH David",
                                    "1": "186"
                                },
                                {
                                    "0": "Lalit Yadav",
                                    "1": "161"
                                },
                                {
                                    "0": "SE Rutherford",
                                    "1": "33"
                                },
                                {
                                    "0": "K Rabada",
                                    "1": "48"
                                },
                                {
                                    "0": "R Sanjay Yadav",
                                    "1": "0"
                                },
                                {
                                    "0": "A Manohar",
                                    "1": "108"
                                },
                                {
                                    "0": "HH Pandya",
                                    "1": "487"
                                },
                                {
                                    "0": "PWH de Silva",
                                    "1": "38"
                                },
                                {
                                    "0": "VR Iyer",
                                    "1": "182"
                                },
                                {
                                    "0": "AT Rayudu",
                                    "1": "274"
                                },
                                {
                                    "0": "KA Pollard",
                                    "1": "144"
                                },
                                {
                                    "0": "Arshdeep Singh",
                                    "1": "21"
                                },
                                {
                                    "0": "RA Bawa",
                                    "1": "11"
                                },
                                {
                                    "0": "Shivam Mavi",
                                    "1": "3"
                                },
                                {
                                    "0": "Ravi Bishnoi",
                                    "1": "0"
                                },
                                {
                                    "0": "R Parag",
                                    "1": "183"
                                },
                                {
                                    "0": "LS Livingstone",
                                    "1": "437"
                                },
                                {
                                    "0": "JM Sharma",
                                    "1": "234"
                                },
                                {
                                    "0": "PN Mankad",
                                    "1": "4"
                                },
                                {
                                    "0": "A Nortje",
                                    "1": "1"
                                },
                                {
                                    "0": "JO Holder",
                                    "1": "58"
                                },
                                {
                                    "0": "KK Ahmed",
                                    "1": "0"
                                },
                                {
                                    "0": "YS Chahal",
                                    "1": "5"
                                },
                                {
                                    "0": "M Jansen",
                                    "1": "9"
                                },
                                {
                                    "0": "Akash Deep",
                                    "1": "0"
                                },
                                {
                                    "0": "JJ Bumrah",
                                    "1": "0"
                                },
                                {
                                    "0": "KS Bharat",
                                    "1": "8"
                                },
                                {
                                    "0": "K Kartikeya",
                                    "1": "3"
                                },
                                {
                                    "0": "Umran Malik",
                                    "1": "4"
                                },
                                {
                                    "0": "Mukesh Choudhary",
                                    "1": "6"
                                },
                                {
                                    "0": "RP Meredith",
                                    "1": "0"
                                },
                                {
                                    "0": "Mustafizur Rahman",
                                    "1": "3"
                                },
                                {
                                    "0": "SO Hetmyer",
                                    "1": "314"
                                },
                                {
                                    "0": "M Theekshana",
                                    "1": "7"
                                },
                                {
                                    "0": "NM Coulter-Nile",
                                    "1": "1"
                                },
                                {
                                    "0": "JR Hazlewood",
                                    "1": "18"
                                },
                                {
                                    "0": "AR Patel",
                                    "1": "182"
                                },
                                {
                                    "0": "SP Jackson",
                                    "1": "23"
                                },
                                {
                                    "0": "Shubman Gill",
                                    "1": "483"
                                },
                                {
                                    "0": "R Powell",
                                    "1": "250"
                                },
                                {
                                    "0": "B Kumar",
                                    "1": "24"
                                },
                                {
                                    "0": "MR Marsh",
                                    "1": "251"
                                },
                                {
                                    "0": "N Jagadeesan",
                                    "1": "40"
                                },
                                {
                                    "0": "AM Rahane",
                                    "1": "133"
                                },
                                {
                                    "0": "F du Plessis",
                                    "1": "468"
                                },
                                {
                                    "0": "AD Russell",
                                    "1": "335"
                                },
                                {
                                    "0": "DJ Bravo",
                                    "1": "23"
                                }
                            ]
                        },
                        "text/html": "<table><tr><th>batter</th><th>batsman_run</th></tr><tr><td>SV Samson</td><td>458</td></tr><tr><td>M Shahrukh Khan</td><td>117</td></tr><tr><td>Fazalhaq Farooqi</td><td>2</td></tr><tr><td>TG Southee</td><td>2</td></tr><tr><td>AS Roy</td><td>0</td></tr><tr><td>SP Narine</td><td>71</td></tr><tr><td>N Rana</td><td>361</td></tr><tr><td>VG Arora</td><td>5</td></tr><tr><td>MS Dhoni</td><td>232</td></tr><tr><td>Rasikh Salam</td><td>7</td></tr><tr><td>Aman Hakim Khan</td><td>5</td></tr><tr><td>KD Karthik</td><td>330</td></tr><tr><td>MS Wade</td><td>157</td></tr><tr><td>KH Pandya</td><td>183</td></tr><tr><td>TA Boult</td><td>40</td></tr><tr><td>KS Sharma</td><td>4</td></tr><tr><td>RG Sharma</td><td>268</td></tr><tr><td>KL Rahul</td><td>616</td></tr><tr><td>GJ Maxwell</td><td>301</td></tr><tr><td>Tilak Varma</td><td>397</td></tr><tr><td>DP Conway</td><td>252</td></tr><tr><td>SS Prabhudessai</td><td>67</td></tr><tr><td>RD Gaikwad</td><td>368</td></tr><tr><td>HE van der Dussen</td><td>22</td></tr><tr><td>Navdeep Saini</td><td>2</td></tr><tr><td>Shahbaz Ahmed</td><td>219</td></tr><tr><td>PK Garg</td><td>46</td></tr><tr><td>RR Pant</td><td>340</td></tr><tr><td>TL Seifert</td><td>24</td></tr><tr><td>JDS Neesham</td><td>31</td></tr><tr><td>R Shepherd</td><td>58</td></tr><tr><td>Harpreet Brar</td><td>22</td></tr><tr><td>PJ Cummins</td><td>63</td></tr><tr><td>PP Shaw</td><td>283</td></tr><tr><td>SS Iyer</td><td>401</td></tr><tr><td>Mohsin Khan</td><td>23</td></tr><tr><td>KS Williamson</td><td>216</td></tr><tr><td>RA Tripathi</td><td>413</td></tr><tr><td>D Pretorius</td><td>44</td></tr><tr><td>LH Ferguson</td><td>5</td></tr><tr><td>MP Stoinis</td><td>156</td></tr><tr><td>R Tewatia</td><td>217</td></tr><tr><td>RV Patel</td><td>6</td></tr><tr><td>TS Mills</td><td>0</td></tr><tr><td>PVD Chameera</td><td>43</td></tr><tr><td>DJ Mitchell</td><td>33</td></tr><tr><td>JD Unadkat</td><td>59</td></tr><tr><td>DA Miller</td><td>481</td></tr><tr><td>SW Billings</td><td>169</td></tr><tr><td>D Padikkal</td><td>376</td></tr><tr><td>RA Jadeja</td><td>116</td></tr><tr><td>R Ashwin</td><td>191</td></tr><tr><td>M Vohra</td><td>19</td></tr><tr><td>Mandeep Singh</td><td>18</td></tr><tr><td>V Kohli</td><td>341</td></tr><tr><td>AJ Finch</td><td>86</td></tr><tr><td>PBB Rajapaksa</td><td>206</td></tr><tr><td>M Ashwin</td><td>12</td></tr><tr><td>Ramandeep Singh</td><td>45</td></tr><tr><td>MJ Santner</td><td>22</td></tr><tr><td>UT Yadav</td><td>55</td></tr><tr><td>Yash Dayal</td><td>0</td></tr><tr><td>Q de Kock</td><td>508</td></tr><tr><td>MK Pandey</td><td>88</td></tr><tr><td>MA Agarwal</td><td>196</td></tr><tr><td>SA Yadav</td><td>303</td></tr><tr><td>AS Joseph</td><td>5</td></tr><tr><td>JC Buttler</td><td>863</td></tr><tr><td>D Brevis</td><td>161</td></tr><tr><td>JM Bairstow</td><td>253</td></tr><tr><td>Kuldeep Yadav</td><td>48</td></tr><tr><td>M Prasidh Krishna</td><td>6</td></tr><tr><td>CJ Jordan</td><td>11</td></tr><tr><td>DJ Willey</td><td>18</td></tr><tr><td>K Gowtham</td><td>0</td></tr><tr><td>DR Sams</td><td>38</td></tr><tr><td>A Tomar</td><td>4</td></tr><tr><td>WP Saha</td><td>317</td></tr><tr><td>S Dhawan</td><td>460</td></tr><tr><td>R Dhawan</td><td>37</td></tr><tr><td>B Sai Sudharsan</td><td>145</td></tr><tr><td>OF Smith</td><td>51</td></tr><tr><td>Rashid Khan</td><td>91</td></tr><tr><td>P Simran Singh</td><td>14</td></tr><tr><td>RD Chahar</td><td>77</td></tr><tr><td>Mohammed Siraj</td><td>30</td></tr><tr><td>Harshit Rana</td><td>2</td></tr><tr><td>DA Warner</td><td>432</td></tr><tr><td>DJ Hooda</td><td>451</td></tr><tr><td>Anuj Rawat</td><td>129</td></tr><tr><td>HV Patel</td><td>43</td></tr><tr><td>Shashank Singh</td><td>69</td></tr><tr><td>RV Uthappa</td><td>230</td></tr><tr><td>Abhishek Sharma</td><td>426</td></tr><tr><td>S Dube</td><td>289</td></tr><tr><td>PJ Sangwan</td><td>2</td></tr><tr><td>Abdul Samad</td><td>4</td></tr><tr><td>Ishan Kishan</td><td>418</td></tr><tr><td>Kartik Tyagi</td><td>7</td></tr><tr><td>B Indrajith</td><td>21</td></tr><tr><td>AK Markram</td><td>381</td></tr><tr><td>OC McCoy</td><td>8</td></tr><tr><td>KR Sen</td><td>0</td></tr><tr><td>CV Varun</td><td>12</td></tr><tr><td>N Pooran</td><td>306</td></tr><tr><td>A Badoni</td><td>161</td></tr><tr><td>KK Nair</td><td>16</td></tr><tr><td>J Suchith</td><td>2</td></tr><tr><td>Avesh Khan</td><td>22</td></tr><tr><td>MK Lomror</td><td>86</td></tr><tr><td>Anmolpreet Singh</td><td>13</td></tr><tr><td>Simarjeet Singh</td><td>7</td></tr><tr><td>SN Thakur</td><td>120</td></tr><tr><td>FA Allen</td><td>8</td></tr><tr><td>T Stubbs</td><td>2</td></tr><tr><td>YBK Jaiswal</td><td>258</td></tr><tr><td>Washington Sundar</td><td>101</td></tr><tr><td>V Shankar</td><td>19</td></tr><tr><td>E Lewis</td><td>73</td></tr><tr><td>SA Abbott</td><td>7</td></tr><tr><td>RK Singh</td><td>174</td></tr><tr><td>RM Patidar</td><td>333</td></tr><tr><td>MM Ali</td><td>244</td></tr><tr><td>S Gopal</td><td>9</td></tr><tr><td>NT Ellis</td><td>0</td></tr><tr><td>SN Khan</td><td>91</td></tr><tr><td>HR Shokeen</td><td>43</td></tr><tr><td>TH David</td><td>186</td></tr><tr><td>Lalit Yadav</td><td>161</td></tr><tr><td>SE Rutherford</td><td>33</td></tr><tr><td>K Rabada</td><td>48</td></tr><tr><td>R Sanjay Yadav</td><td>0</td></tr><tr><td>A Manohar</td><td>108</td></tr><tr><td>HH Pandya</td><td>487</td></tr><tr><td>PWH de Silva</td><td>38</td></tr><tr><td>VR Iyer</td><td>182</td></tr><tr><td>AT Rayudu</td><td>274</td></tr><tr><td>KA Pollard</td><td>144</td></tr><tr><td>Arshdeep Singh</td><td>21</td></tr><tr><td>RA Bawa</td><td>11</td></tr><tr><td>Shivam Mavi</td><td>3</td></tr><tr><td>Ravi Bishnoi</td><td>0</td></tr><tr><td>R Parag</td><td>183</td></tr><tr><td>LS Livingstone</td><td>437</td></tr><tr><td>JM Sharma</td><td>234</td></tr><tr><td>PN Mankad</td><td>4</td></tr><tr><td>A Nortje</td><td>1</td></tr><tr><td>JO Holder</td><td>58</td></tr><tr><td>KK Ahmed</td><td>0</td></tr><tr><td>YS Chahal</td><td>5</td></tr><tr><td>M Jansen</td><td>9</td></tr><tr><td>Akash Deep</td><td>0</td></tr><tr><td>JJ Bumrah</td><td>0</td></tr><tr><td>KS Bharat</td><td>8</td></tr><tr><td>K Kartikeya</td><td>3</td></tr><tr><td>Umran Malik</td><td>4</td></tr><tr><td>Mukesh Choudhary</td><td>6</td></tr><tr><td>RP Meredith</td><td>0</td></tr><tr><td>Mustafizur Rahman</td><td>3</td></tr><tr><td>SO Hetmyer</td><td>314</td></tr><tr><td>M Theekshana</td><td>7</td></tr><tr><td>NM Coulter-Nile</td><td>1</td></tr><tr><td>JR Hazlewood</td><td>18</td></tr><tr><td>AR Patel</td><td>182</td></tr><tr><td>SP Jackson</td><td>23</td></tr><tr><td>Shubman Gill</td><td>483</td></tr><tr><td>R Powell</td><td>250</td></tr><tr><td>B Kumar</td><td>24</td></tr><tr><td>MR Marsh</td><td>251</td></tr><tr><td>N Jagadeesan</td><td>40</td></tr><tr><td>AM Rahane</td><td>133</td></tr><tr><td>F du Plessis</td><td>468</td></tr><tr><td>AD Russell</td><td>335</td></tr><tr><td>DJ Bravo</td><td>23</td></tr></table>"
                    },
                    "metadata": {}
                }
            ],
            "execution_count": 2
        },
        {
            "cell_type": "markdown",
            "source": [
                "**<span style=\"color: #0000ff;\">Top</span> <span style=\"color: #09885a;\">5</span> scorer <span style=\"color: #0000ff;\">in</span> ipl <span style=\"color: #09885a;\">2022</span>**"
            ],
            "metadata": {
                "azdata_cell_guid": "ca65cb8d-eb22-494f-816e-e641732de52d"
            },
            "attachments": {}
        },
        {
            "cell_type": "code",
            "source": [
                "Score=df_ball.groupby(['batter'])[['batsman_run']].sum()\r\n",
                "Score.reset_index(inplace=True)\r\n",
                "plt.figure(figsize=(12,5))\r\n",
                "plt.title('Top 5 scorer in IPL 2022',size=15,fontweight='bold')\r\n",
                "plt.xticks(rotation = 90)\r\n",
                "ax=sns.barplot(data=Score.sort_values('batsman_run',ascending=False).head(5),\r\n",
                "            x='batter',y='batsman_run',palette='viridis')\r\n",
                "for i in ax.containers:\r\n",
                "    ax.bar_label(i,)"
            ],
            "metadata": {
                "language": "python",
                "azdata_cell_guid": "55448a65-037e-4b21-a492-3b665476c634"
            },
            "outputs": [
                {
                    "output_type": "display_data",
                    "data": {
                        "text/plain": "<Figure size 1200x500 with 1 Axes>",
                        "image/png": "[encoded data removed]"
                    },
                    "metadata": {}
                }
            ],
            "execution_count": 4
        },
        {
            "cell_type": "markdown",
            "source": [
                "**<span style=\"color: #0000ff;\">Top</span> <span style=\"color: #09885a;\">5</span> wicket takers**"
            ],
            "metadata": {
                "azdata_cell_guid": "c2330c41-842f-4962-a098-0e546d7f8f11"
            },
            "attachments": {}
        },
        {
            "cell_type": "code",
            "source": [
                "wickets_taken=df_ball.groupby([\"bowler\"])[[\"isWicketDelivery\"]].sum()\r\n",
                "wickets_taken.reset_index(inplace=True)\r\n",
                "plt.figure(figsize=(12,6))\r\n",
                "plt.title('Top 5 bowlers in IPL 2022',size=15,fontweight='bold')\r\n",
                "plt.xticks(rotation = 90)\r\n",
                "ax=sns.barplot(data=wickets_taken.sort_values('isWicketDelivery',ascending=False).head(5),\r\n",
                "            x='bowler',y='isWicketDelivery',palette='viridis')\r\n",
                "for i in ax.containers:\r\n",
                "    ax.bar_label(i,)"
            ],
            "metadata": {
                "language": "python",
                "azdata_cell_guid": "e0ff4738-8c2e-47bb-a511-475aba76e18b"
            },
            "outputs": [
                {
                    "output_type": "display_data",
                    "data": {
                        "text/plain": "<Figure size 1200x600 with 1 Axes>",
                        "image/png": "[encoded data removed]"
                    },
                    "metadata": {}
                }
            ],
            "execution_count": 22
        },
        {
            "cell_type": "markdown",
            "source": [
                "**Matches won <span style=\"color: #0000ff;\">by</span> each team**"
            ],
            "metadata": {
                "azdata_cell_guid": "023c6380-f897-4559-a620-295f3bb1505d"
            },
            "attachments": {}
        },
        {
            "cell_type": "code",
            "source": [
                "plt.figure(figsize=(25, 6))\r\n",
                "sns.countplot(x='WinningTeam', data=df_mat, order = df_mat['WinningTeam'].value_counts().index)\r\n",
                "plt.title('Total matches won by each team in 2022')\r\n",
                "plt.ylabel('Wins')\r\n",
                "plt.xlabel('Team')\r\n",
                "plt.show()"
            ],
            "metadata": {
                "language": "python",
                "azdata_cell_guid": "8ba1a8c9-3a27-4bb9-8f8b-c428c92b4de8"
            },
            "outputs": [
                {
                    "output_type": "display_data",
                    "data": {
                        "text/plain": "<Figure size 2500x600 with 1 Axes>",
                        "image/png": "[encoded data removed]"
                    },
                    "metadata": {}
                }
            ],
            "execution_count": 26
        },
        {
            "cell_type": "markdown",
            "source": [
                "**Conclusion**\n",
                "\n",
                "We have investigated both Python and SQL for the IPL dataset. We have analysed different aspects which include Displaying different batsman and teams in IPL using Python and SQL, Max and Least number of balls faced by any batter, Matches won by each team, <span style=\"background-image: initial; background-position: initial; background-size: initial; background-repeat: initial; background-attachment: initial; background-origin: initial; background-clip: initial; color: black;\">Top&nbsp;5&nbsp;wicket takers, Top&nbsp;5&nbsp;scorer&nbsp;in&nbsp;ipl&nbsp;2022,</span> Total runs made by every players throughout tournament using SQL and Python and plotting graphs using data.\n",
                "\n",
                "Here are some of my findings based on the comparisons:\n",
                "\n",
                "Structured Query Language (SQL) is a standardized programming language that is used to manage relational databases and perform various operations on the data in them. It can be used to gather, manipulate and extract the data.It is frequently used by data analysts. SQL specialisea in allowing you to smoothly connect multiple data-sets.\n",
                "\n",
                "On the other hand, Python is an imperative language which makes it adaptable and flexible but more difficult to understand. It offers powerful libraries such as pandas for working with datasets, numpy for working with arrays of data and matplotlib for making graphs, seaborn to simplify making of graphing task. It is used for statistics and APIs."
            ],
            "metadata": {
                "language": "python",
                "azdata_cell_guid": "0cbfa78b-e4a3-41c7-a92f-22a81f9566a2"
            },
            "attachments": {}
        },
        {
            "cell_type": "markdown",
            "source": [
                "# **References**\n",
                "\n",
                "<span style=\"font-size:10.0pt;\n",
                "font-family:&quot;Arial&quot;,sans-serif;color:#292929;letter-spacing:-.05pt;background:\n",
                "white\">[1] Sahil Vora (2022).&nbsp; IPL 2022 Match Dataset:</span> <span style=\"font-size: 10pt; font-family: Arial, sans-serif;\"><a href=\"https://www.kaggle.com/sanderp/badminton-bwf-world-tour\" title=\"https://www.kaggle.com/sanderp/badminton-bwf-world-tour\" data-href=\"https://www.kaggle.com/sanderp/badminton-bwf-world-tour\" is-markdown=\"true\" is-absolute=\"false\">https://www.kaggle.com/datasets/vora1011/ipl-2022-match-dataset</a></span>\n",
                "\n",
                "<span style=\"font-size:10.0pt;\n",
                "font-family:&quot;Arial&quot;,sans-serif;color:#292929;letter-spacing:-.05pt;background:\n",
                "white\">[2] Sahil Vora (2022).&nbsp; IPL 2022 Player Dataset</span><span style=\"font-size: 10pt; font-family: Arial, sans-serif;\">:&nbsp;<a href=\"https://www.kaggle.com/sanderp/badminton-bwf-world-tour\" title=\"https://www.kaggle.com/sanderp/badminton-bwf-world-tour\" data-href=\"https://www.kaggle.com/sanderp/badminton-bwf-world-tour\" is-markdown=\"true\" is-absolute=\"false\">https://www.kaggle.com/datasets/vora1011/ipl-2022-player-statistics</a></span>\n",
                "\n",
                "<span style=\"font-size: 10pt; font-family: Arial, sans-serif;\">[3]</span><span style=\"font-size: 10pt; font-family: Arial, sans-serif; color: rgb(41, 41, 41); letter-spacing: -0.05pt; background: white;\">Nadeem Taj (2023).&nbsp; Run_Rate_Analysis_IPL_2022</span><span style=\"font-size: 10pt; font-family: Arial, sans-serif;\">:&nbsp;</span> <span style=\"font-size: 13.3333px;\"><u><a href=\"https://www.kaggle.com/code/nadeemtaj407/run-rate-analysis-ipl-2022\" data-href=\"https://www.kaggle.com/code/nadeemtaj407/run-rate-analysis-ipl-2022\" title=\"https://www.kaggle.com/code/nadeemtaj407/run-rate-analysis-ipl-2022\" is-markdown=\"true\" is-absolute=\"false\">https://www.kaggle.com/code/nadeemtaj407/run-rate-analysis-ipl-2022</a></u></span>\n",
                "\n",
                "<span style=\"font-size: 13.3333px;\">[4]</span><span style=\"font-size: var(--ytd-channel-name-text-font-size); font-weight: var(--ytd-channel-name-text-font-weight); background-color: transparent; color: var(--yt-spec-text-primary); font-family: Roboto, Arial, sans-serif;\">StatAnalytica Learn Statistics(2022).&nbsp;</span> Python Vs SQL: Points You Need to Know About Python and SQL: [https://www.youtube.com/watch?v=rU340-ZK8QY](https://www.youtube.com/watch?v=rU340-ZK8QY)\n",
                "\n",
                "\\[5\\] Rijul Singh Malik(Oct 3, 2021). What is the Difference Between Python, R and SQL? : A blog around python vs r vs sql:  [https://medium.com/@rijulsinghmalik/what-is-the-difference-between-python-r-and-sql-a-blog-around-python-vs-r-vs-sql-d7fe2262c25e](https://medium.com/@rijulsinghmalik/what-is-the-difference-between-python-r-and-sql-a-blog-around-python-vs-r-vs-sql-d7fe2262c25e)\n",
                "\n",
                "\\[6\\] <span style=\"background-color: white; color: rgb(33, 37, 41); font-family: &quot;Segoe UI&quot;, sans-serif;\">Java vs Python for Data Science in 2023-What's your choice? (02 May 2023).</span> [https://www.projectpro.io/article/java-vs-python-for-data-science-in-2021-whats-your-choice/433](https://www.projectpro.io/article/java-vs-python-for-data-science-in-2021-whats-your-choice/433)\n",
                "\n",
                "\\[7\\] <span style=\"background-color: rgb(255, 255, 255); color: rgb(33, 37, 41); font-family: &quot;Segoe UI&quot;, sans-serif;\">Brenna Buuck(November 29, 2022).&nbsp;</span>  <span style=\"background-color: white; color: rgb(33, 37, 41); font-family: &quot;Segoe UI&quot;, sans-serif;\">Python vs. SQL: A Deep Dive Comparison.</span> [https://streamsets.com/blog/python-vs-sql/#What-is-Python](https://streamsets.com/blog/python-vs-sql/#What-is-Python)\n",
                "\n",
                "[](https://www.youtube.com/@StatAnalyticaLearnStatistics)"
            ],
            "metadata": {
                "azdata_cell_guid": "7e8c4d88-7beb-4097-8ef1-8c303cf79f74"
            },
            "attachments": {}
        }
    ]
}